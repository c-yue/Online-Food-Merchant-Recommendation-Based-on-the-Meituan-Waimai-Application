{
 "cells": [
  {
   "cell_type": "code",
   "execution_count": 2,
   "id": "9bedc22d",
   "metadata": {},
   "outputs": [],
   "source": [
    "import pandas as pd\n",
    "import numpy as np\n",
    "import os"
   ]
  },
  {
   "cell_type": "markdown",
   "id": "8814164b",
   "metadata": {},
   "source": [
    "## 0 Read Data"
   ]
  },
  {
   "cell_type": "code",
   "execution_count": 2,
   "id": "ccb7cc46",
   "metadata": {},
   "outputs": [],
   "source": [
    "# read user"
   ]
  },
  {
   "cell_type": "code",
   "execution_count": 3,
   "id": "5b736838",
   "metadata": {},
   "outputs": [],
   "source": [
    "path = 'C:/Users/Axe-Yue-CHEN/Desktop/Online-Food-Merchant-Recommendation-Based-on-the-Meituan-Waimai-Application/原数据-20210301-20210328/users.txt'\n",
    "users = pd.read_csv(path, sep = \"\\t\")"
   ]
  },
  {
   "cell_type": "code",
   "execution_count": 4,
   "id": "a39cc3c6",
   "metadata": {},
   "outputs": [
    {
     "data": {
      "text/html": [
       "<div>\n",
       "<style scoped>\n",
       "    .dataframe tbody tr th:only-of-type {\n",
       "        vertical-align: middle;\n",
       "    }\n",
       "\n",
       "    .dataframe tbody tr th {\n",
       "        vertical-align: top;\n",
       "    }\n",
       "\n",
       "    .dataframe thead th {\n",
       "        text-align: right;\n",
       "    }\n",
       "</style>\n",
       "<table border=\"1\" class=\"dataframe\">\n",
       "  <thead>\n",
       "    <tr style=\"text-align: right;\">\n",
       "      <th></th>\n",
       "      <th>user_id</th>\n",
       "      <th>avg_pay_amt</th>\n",
       "      <th>avg_pay_amt_weekdays</th>\n",
       "      <th>avg_pay_amt_weekends</th>\n",
       "    </tr>\n",
       "  </thead>\n",
       "  <tbody>\n",
       "    <tr>\n",
       "      <th>0</th>\n",
       "      <td>0</td>\n",
       "      <td>[36,49)</td>\n",
       "      <td>[29,36)</td>\n",
       "      <td>[36,49)</td>\n",
       "    </tr>\n",
       "    <tr>\n",
       "      <th>1</th>\n",
       "      <td>1</td>\n",
       "      <td>[49,65)</td>\n",
       "      <td>[49,65)</td>\n",
       "      <td>&gt;=65</td>\n",
       "    </tr>\n",
       "    <tr>\n",
       "      <th>2</th>\n",
       "      <td>2</td>\n",
       "      <td>&lt;29</td>\n",
       "      <td>&lt;29</td>\n",
       "      <td>&lt;29</td>\n",
       "    </tr>\n",
       "    <tr>\n",
       "      <th>3</th>\n",
       "      <td>3</td>\n",
       "      <td>[49,65)</td>\n",
       "      <td>&gt;=65</td>\n",
       "      <td>[49,65)</td>\n",
       "    </tr>\n",
       "    <tr>\n",
       "      <th>4</th>\n",
       "      <td>4</td>\n",
       "      <td>[36,49)</td>\n",
       "      <td>未知</td>\n",
       "      <td>[49,65)</td>\n",
       "    </tr>\n",
       "  </tbody>\n",
       "</table>\n",
       "</div>"
      ],
      "text/plain": [
       "   user_id avg_pay_amt avg_pay_amt_weekdays avg_pay_amt_weekends\n",
       "0        0     [36,49)              [29,36)              [36,49)\n",
       "1        1     [49,65)              [49,65)                 >=65\n",
       "2        2         <29                  <29                  <29\n",
       "3        3     [49,65)                 >=65              [49,65)\n",
       "4        4     [36,49)                   未知              [49,65)"
      ]
     },
     "execution_count": 4,
     "metadata": {},
     "output_type": "execute_result"
    }
   ],
   "source": [
    "users.head()\n",
    "# users\n",
    "# users.info()\n",
    "# users['avg_pay_amt'].unique()"
   ]
  },
  {
   "cell_type": "code",
   "execution_count": 5,
   "id": "e1299677",
   "metadata": {},
   "outputs": [
    {
     "data": {
      "text/plain": [
       "0         [[36, 49)]\n",
       "1         [[49, 65)]\n",
       "2              [<29]\n",
       "3         [[49, 65)]\n",
       "4         [[36, 49)]\n",
       "             ...    \n",
       "199995    [[36, 49)]\n",
       "199996        [>=65]\n",
       "199997    [[36, 49)]\n",
       "199998         [<29]\n",
       "199999         [<29]\n",
       "Name: avg_pay_amt, Length: 200000, dtype: object"
      ]
     },
     "execution_count": 5,
     "metadata": {},
     "output_type": "execute_result"
    }
   ],
   "source": [
    "users['avg_pay_amt'].apply(lambda x: str(x).split(','))"
   ]
  },
  {
   "cell_type": "code",
   "execution_count": 6,
   "id": "efcc115c",
   "metadata": {},
   "outputs": [],
   "source": [
    "# read pois"
   ]
  },
  {
   "cell_type": "code",
   "execution_count": 149,
   "id": "1498cd9c",
   "metadata": {},
   "outputs": [],
   "source": [
    "path = 'C:/Users/Axe-Yue-CHEN/Desktop/Online-Food-Merchant-Recommendation-Based-on-the-Meituan-Waimai-Application/原数据-20210301-20210328/pois.txt'\n",
    "pois = pd.read_csv(path, sep = \"\\t\")"
   ]
  },
  {
   "cell_type": "code",
   "execution_count": 150,
   "id": "4e569dce",
   "metadata": {},
   "outputs": [
    {
     "name": "stdout",
     "output_type": "stream",
     "text": [
      "<class 'pandas.core.frame.DataFrame'>\n",
      "RangeIndex: 29072 entries, 0 to 29071\n",
      "Data columns (total 10 columns):\n",
      " #   Column                      Non-Null Count  Dtype  \n",
      "---  ------                      --------------  -----  \n",
      " 0   wm_poi_id                   29071 non-null  float64\n",
      " 1   wm_poi_name                 27656 non-null  object \n",
      " 2   primary_second_tag_name     27656 non-null  object \n",
      " 3   primary_third_tag_name      27656 non-null  object \n",
      " 4   primary_first_tag_name      27656 non-null  object \n",
      " 5   poi_brand_id                22037 non-null  float64\n",
      " 6   aor_id                      4996 non-null   float64\n",
      " 7   poi_score                   27076 non-null  float64\n",
      " 8   delivery_comment_avg_score  27076 non-null  float64\n",
      " 9   food_comment_avg_score      27076 non-null  float64\n",
      "dtypes: float64(6), object(4)\n",
      "memory usage: 2.2+ MB\n"
     ]
    }
   ],
   "source": [
    "# pois.head()\n",
    "# orders_train\n",
    "pois.info()"
   ]
  },
  {
   "cell_type": "code",
   "execution_count": 8,
   "id": "97cfaff5",
   "metadata": {},
   "outputs": [],
   "source": [
    "# read orders"
   ]
  },
  {
   "cell_type": "code",
   "execution_count": 9,
   "id": "8eb28bc7",
   "metadata": {},
   "outputs": [],
   "source": [
    "path = 'C:/Users/Axe-Yue-CHEN/Desktop/Online-Food-Merchant-Recommendation-Based-on-the-Meituan-Waimai-Application/原数据-20210301-20210328/orders_train.txt'\n",
    "orders_train = pd.read_csv(path, sep = \"\\t\")"
   ]
  },
  {
   "cell_type": "code",
   "execution_count": 10,
   "id": "0539e615",
   "metadata": {},
   "outputs": [
    {
     "data": {
      "text/html": [
       "<div>\n",
       "<style scoped>\n",
       "    .dataframe tbody tr th:only-of-type {\n",
       "        vertical-align: middle;\n",
       "    }\n",
       "\n",
       "    .dataframe tbody tr th {\n",
       "        vertical-align: top;\n",
       "    }\n",
       "\n",
       "    .dataframe thead th {\n",
       "        text-align: right;\n",
       "    }\n",
       "</style>\n",
       "<table border=\"1\" class=\"dataframe\">\n",
       "  <thead>\n",
       "    <tr style=\"text-align: right;\">\n",
       "      <th></th>\n",
       "      <th>user_id</th>\n",
       "      <th>wm_order_id</th>\n",
       "      <th>wm_poi_id</th>\n",
       "      <th>aor_id</th>\n",
       "      <th>order_price_interval</th>\n",
       "      <th>order_timestamp</th>\n",
       "      <th>ord_period_name</th>\n",
       "      <th>order_scene_name</th>\n",
       "      <th>aoi_id</th>\n",
       "      <th>takedlvr_aoi_type_name</th>\n",
       "      <th>dt</th>\n",
       "    </tr>\n",
       "  </thead>\n",
       "  <tbody>\n",
       "    <tr>\n",
       "      <th>0</th>\n",
       "      <td>120037</td>\n",
       "      <td>0</td>\n",
       "      <td>1806</td>\n",
       "      <td>0</td>\n",
       "      <td>&lt;29</td>\n",
       "      <td>1614557985</td>\n",
       "      <td>0</td>\n",
       "      <td>未知</td>\n",
       "      <td>0.0</td>\n",
       "      <td>0</td>\n",
       "      <td>20210301</td>\n",
       "    </tr>\n",
       "    <tr>\n",
       "      <th>1</th>\n",
       "      <td>135109</td>\n",
       "      <td>1</td>\n",
       "      <td>970</td>\n",
       "      <td>6</td>\n",
       "      <td>&gt;=65</td>\n",
       "      <td>1614561844</td>\n",
       "      <td>1</td>\n",
       "      <td>0</td>\n",
       "      <td>NaN</td>\n",
       "      <td>未知</td>\n",
       "      <td>20210301</td>\n",
       "    </tr>\n",
       "    <tr>\n",
       "      <th>2</th>\n",
       "      <td>146736</td>\n",
       "      <td>2</td>\n",
       "      <td>1945</td>\n",
       "      <td>6</td>\n",
       "      <td>[29,36)</td>\n",
       "      <td>1614588773</td>\n",
       "      <td>2</td>\n",
       "      <td>未知</td>\n",
       "      <td>1.0</td>\n",
       "      <td>0</td>\n",
       "      <td>20210301</td>\n",
       "    </tr>\n",
       "    <tr>\n",
       "      <th>3</th>\n",
       "      <td>83644</td>\n",
       "      <td>3</td>\n",
       "      <td>708</td>\n",
       "      <td>6</td>\n",
       "      <td>&gt;=65</td>\n",
       "      <td>1614599916</td>\n",
       "      <td>3</td>\n",
       "      <td>1</td>\n",
       "      <td>2.0</td>\n",
       "      <td>0</td>\n",
       "      <td>20210301</td>\n",
       "    </tr>\n",
       "    <tr>\n",
       "      <th>4</th>\n",
       "      <td>117903</td>\n",
       "      <td>4</td>\n",
       "      <td>2366</td>\n",
       "      <td>6</td>\n",
       "      <td>[29,36)</td>\n",
       "      <td>1614595418</td>\n",
       "      <td>3</td>\n",
       "      <td>1</td>\n",
       "      <td>3.0</td>\n",
       "      <td>1</td>\n",
       "      <td>20210301</td>\n",
       "    </tr>\n",
       "  </tbody>\n",
       "</table>\n",
       "</div>"
      ],
      "text/plain": [
       "   user_id  wm_order_id  wm_poi_id  aor_id order_price_interval  \\\n",
       "0   120037            0       1806       0                  <29   \n",
       "1   135109            1        970       6                 >=65   \n",
       "2   146736            2       1945       6              [29,36)   \n",
       "3    83644            3        708       6                 >=65   \n",
       "4   117903            4       2366       6              [29,36)   \n",
       "\n",
       "   order_timestamp  ord_period_name order_scene_name  aoi_id  \\\n",
       "0       1614557985                0               未知     0.0   \n",
       "1       1614561844                1                0     NaN   \n",
       "2       1614588773                2               未知     1.0   \n",
       "3       1614599916                3                1     2.0   \n",
       "4       1614595418                3                1     3.0   \n",
       "\n",
       "  takedlvr_aoi_type_name        dt  \n",
       "0                      0  20210301  \n",
       "1                     未知  20210301  \n",
       "2                      0  20210301  \n",
       "3                      0  20210301  \n",
       "4                      1  20210301  "
      ]
     },
     "execution_count": 10,
     "metadata": {},
     "output_type": "execute_result"
    }
   ],
   "source": [
    "orders_train.head()\n",
    "# orders_train"
   ]
  },
  {
   "cell_type": "code",
   "execution_count": null,
   "id": "e1513900",
   "metadata": {},
   "outputs": [],
   "source": []
  },
  {
   "cell_type": "markdown",
   "id": "aee21eff",
   "metadata": {},
   "source": [
    "## 1 Cleaning Data"
   ]
  },
  {
   "cell_type": "code",
   "execution_count": 11,
   "id": "a9ab6898",
   "metadata": {},
   "outputs": [],
   "source": [
    "# pois"
   ]
  },
  {
   "cell_type": "code",
   "execution_count": 151,
   "id": "497f427f",
   "metadata": {},
   "outputs": [],
   "source": [
    "pois = pois[0:29070]"
   ]
  },
  {
   "cell_type": "code",
   "execution_count": null,
   "id": "953ec9c7",
   "metadata": {},
   "outputs": [],
   "source": []
  },
  {
   "cell_type": "markdown",
   "id": "8eb9787a",
   "metadata": {},
   "source": [
    "## Map POIs to Integers (Done)"
   ]
  },
  {
   "cell_type": "code",
   "execution_count": null,
   "id": "eb7be327",
   "metadata": {},
   "outputs": [],
   "source": []
  },
  {
   "cell_type": "code",
   "execution_count": null,
   "id": "e541498a",
   "metadata": {},
   "outputs": [],
   "source": []
  },
  {
   "cell_type": "markdown",
   "id": "392151f6",
   "metadata": {},
   "source": [
    "## 2 Exploring"
   ]
  },
  {
   "cell_type": "markdown",
   "id": "2b2f2bb5",
   "metadata": {},
   "source": [
    "### Most Bought POI"
   ]
  },
  {
   "cell_type": "code",
   "execution_count": 13,
   "id": "5ec38020",
   "metadata": {},
   "outputs": [],
   "source": [
    "order_sort_by_poi = orders_train.groupby('wm_poi_id').count().sort_values('user_id',ascending = False)"
   ]
  },
  {
   "cell_type": "code",
   "execution_count": 14,
   "id": "e7cfc7a2",
   "metadata": {},
   "outputs": [
    {
     "data": {
      "text/html": [
       "<div>\n",
       "<style scoped>\n",
       "    .dataframe tbody tr th:only-of-type {\n",
       "        vertical-align: middle;\n",
       "    }\n",
       "\n",
       "    .dataframe tbody tr th {\n",
       "        vertical-align: top;\n",
       "    }\n",
       "\n",
       "    .dataframe thead th {\n",
       "        text-align: right;\n",
       "    }\n",
       "</style>\n",
       "<table border=\"1\" class=\"dataframe\">\n",
       "  <thead>\n",
       "    <tr style=\"text-align: right;\">\n",
       "      <th></th>\n",
       "      <th>user_id</th>\n",
       "      <th>wm_order_id</th>\n",
       "      <th>aor_id</th>\n",
       "      <th>order_price_interval</th>\n",
       "      <th>order_timestamp</th>\n",
       "      <th>ord_period_name</th>\n",
       "      <th>order_scene_name</th>\n",
       "      <th>aoi_id</th>\n",
       "      <th>takedlvr_aoi_type_name</th>\n",
       "      <th>dt</th>\n",
       "    </tr>\n",
       "    <tr>\n",
       "      <th>wm_poi_id</th>\n",
       "      <th></th>\n",
       "      <th></th>\n",
       "      <th></th>\n",
       "      <th></th>\n",
       "      <th></th>\n",
       "      <th></th>\n",
       "      <th></th>\n",
       "      <th></th>\n",
       "      <th></th>\n",
       "      <th></th>\n",
       "    </tr>\n",
       "  </thead>\n",
       "  <tbody>\n",
       "    <tr>\n",
       "      <th>1896</th>\n",
       "      <td>4535</td>\n",
       "      <td>4535</td>\n",
       "      <td>4535</td>\n",
       "      <td>4535</td>\n",
       "      <td>4535</td>\n",
       "      <td>4535</td>\n",
       "      <td>4535</td>\n",
       "      <td>4330</td>\n",
       "      <td>4535</td>\n",
       "      <td>4535</td>\n",
       "    </tr>\n",
       "    <tr>\n",
       "      <th>244</th>\n",
       "      <td>4139</td>\n",
       "      <td>4139</td>\n",
       "      <td>4139</td>\n",
       "      <td>4139</td>\n",
       "      <td>4139</td>\n",
       "      <td>4139</td>\n",
       "      <td>4139</td>\n",
       "      <td>3531</td>\n",
       "      <td>4139</td>\n",
       "      <td>4139</td>\n",
       "    </tr>\n",
       "    <tr>\n",
       "      <th>3230</th>\n",
       "      <td>4102</td>\n",
       "      <td>4102</td>\n",
       "      <td>4102</td>\n",
       "      <td>4102</td>\n",
       "      <td>4102</td>\n",
       "      <td>4102</td>\n",
       "      <td>4102</td>\n",
       "      <td>3766</td>\n",
       "      <td>4102</td>\n",
       "      <td>4102</td>\n",
       "    </tr>\n",
       "    <tr>\n",
       "      <th>3193</th>\n",
       "      <td>3943</td>\n",
       "      <td>3943</td>\n",
       "      <td>3943</td>\n",
       "      <td>3943</td>\n",
       "      <td>3943</td>\n",
       "      <td>3943</td>\n",
       "      <td>3943</td>\n",
       "      <td>3647</td>\n",
       "      <td>3943</td>\n",
       "      <td>3943</td>\n",
       "    </tr>\n",
       "    <tr>\n",
       "      <th>2933</th>\n",
       "      <td>3868</td>\n",
       "      <td>3868</td>\n",
       "      <td>3868</td>\n",
       "      <td>3868</td>\n",
       "      <td>3868</td>\n",
       "      <td>3868</td>\n",
       "      <td>3868</td>\n",
       "      <td>3737</td>\n",
       "      <td>3868</td>\n",
       "      <td>3868</td>\n",
       "    </tr>\n",
       "    <tr>\n",
       "      <th>...</th>\n",
       "      <td>...</td>\n",
       "      <td>...</td>\n",
       "      <td>...</td>\n",
       "      <td>...</td>\n",
       "      <td>...</td>\n",
       "      <td>...</td>\n",
       "      <td>...</td>\n",
       "      <td>...</td>\n",
       "      <td>...</td>\n",
       "      <td>...</td>\n",
       "    </tr>\n",
       "    <tr>\n",
       "      <th>1153</th>\n",
       "      <td>1</td>\n",
       "      <td>1</td>\n",
       "      <td>1</td>\n",
       "      <td>1</td>\n",
       "      <td>1</td>\n",
       "      <td>1</td>\n",
       "      <td>1</td>\n",
       "      <td>1</td>\n",
       "      <td>1</td>\n",
       "      <td>1</td>\n",
       "    </tr>\n",
       "    <tr>\n",
       "      <th>1154</th>\n",
       "      <td>1</td>\n",
       "      <td>1</td>\n",
       "      <td>1</td>\n",
       "      <td>1</td>\n",
       "      <td>1</td>\n",
       "      <td>1</td>\n",
       "      <td>1</td>\n",
       "      <td>1</td>\n",
       "      <td>1</td>\n",
       "      <td>1</td>\n",
       "    </tr>\n",
       "    <tr>\n",
       "      <th>1995</th>\n",
       "      <td>1</td>\n",
       "      <td>1</td>\n",
       "      <td>1</td>\n",
       "      <td>1</td>\n",
       "      <td>1</td>\n",
       "      <td>1</td>\n",
       "      <td>1</td>\n",
       "      <td>1</td>\n",
       "      <td>1</td>\n",
       "      <td>1</td>\n",
       "    </tr>\n",
       "    <tr>\n",
       "      <th>1981</th>\n",
       "      <td>1</td>\n",
       "      <td>1</td>\n",
       "      <td>1</td>\n",
       "      <td>1</td>\n",
       "      <td>1</td>\n",
       "      <td>1</td>\n",
       "      <td>1</td>\n",
       "      <td>1</td>\n",
       "      <td>1</td>\n",
       "      <td>1</td>\n",
       "    </tr>\n",
       "    <tr>\n",
       "      <th>1658</th>\n",
       "      <td>1</td>\n",
       "      <td>1</td>\n",
       "      <td>1</td>\n",
       "      <td>1</td>\n",
       "      <td>1</td>\n",
       "      <td>1</td>\n",
       "      <td>1</td>\n",
       "      <td>1</td>\n",
       "      <td>1</td>\n",
       "      <td>1</td>\n",
       "    </tr>\n",
       "  </tbody>\n",
       "</table>\n",
       "<p>3252 rows × 10 columns</p>\n",
       "</div>"
      ],
      "text/plain": [
       "           user_id  wm_order_id  aor_id  order_price_interval  \\\n",
       "wm_poi_id                                                       \n",
       "1896          4535         4535    4535                  4535   \n",
       "244           4139         4139    4139                  4139   \n",
       "3230          4102         4102    4102                  4102   \n",
       "3193          3943         3943    3943                  3943   \n",
       "2933          3868         3868    3868                  3868   \n",
       "...            ...          ...     ...                   ...   \n",
       "1153             1            1       1                     1   \n",
       "1154             1            1       1                     1   \n",
       "1995             1            1       1                     1   \n",
       "1981             1            1       1                     1   \n",
       "1658             1            1       1                     1   \n",
       "\n",
       "           order_timestamp  ord_period_name  order_scene_name  aoi_id  \\\n",
       "wm_poi_id                                                               \n",
       "1896                  4535             4535              4535    4330   \n",
       "244                   4139             4139              4139    3531   \n",
       "3230                  4102             4102              4102    3766   \n",
       "3193                  3943             3943              3943    3647   \n",
       "2933                  3868             3868              3868    3737   \n",
       "...                    ...              ...               ...     ...   \n",
       "1153                     1                1                 1       1   \n",
       "1154                     1                1                 1       1   \n",
       "1995                     1                1                 1       1   \n",
       "1981                     1                1                 1       1   \n",
       "1658                     1                1                 1       1   \n",
       "\n",
       "           takedlvr_aoi_type_name    dt  \n",
       "wm_poi_id                                \n",
       "1896                         4535  4535  \n",
       "244                          4139  4139  \n",
       "3230                         4102  4102  \n",
       "3193                         3943  3943  \n",
       "2933                         3868  3868  \n",
       "...                           ...   ...  \n",
       "1153                            1     1  \n",
       "1154                            1     1  \n",
       "1995                            1     1  \n",
       "1981                            1     1  \n",
       "1658                            1     1  \n",
       "\n",
       "[3252 rows x 10 columns]"
      ]
     },
     "execution_count": 14,
     "metadata": {},
     "output_type": "execute_result"
    }
   ],
   "source": [
    "order_sort_by_poi"
   ]
  },
  {
   "cell_type": "code",
   "execution_count": null,
   "id": "05e02f87",
   "metadata": {},
   "outputs": [],
   "source": []
  },
  {
   "cell_type": "markdown",
   "id": "e4f1a320",
   "metadata": {},
   "source": [
    "## Try Collaborative Filtering for POI (need to refresh later)"
   ]
  },
  {
   "cell_type": "code",
   "execution_count": null,
   "id": "bb39d508",
   "metadata": {},
   "outputs": [],
   "source": [
    "# 先安装推荐系统库 surprise，在anaconda中运行：\n",
    "# conda install -c conda-forge scikit-surprise"
   ]
  },
  {
   "cell_type": "code",
   "execution_count": 15,
   "id": "354a7543",
   "metadata": {},
   "outputs": [],
   "source": [
    "from surprise import Reader, Dataset, SVD\n",
    "from surprise.model_selection import cross_validate"
   ]
  },
  {
   "cell_type": "code",
   "execution_count": 16,
   "id": "8607627d",
   "metadata": {},
   "outputs": [],
   "source": [
    "reader = Reader()"
   ]
  },
  {
   "cell_type": "code",
   "execution_count": 17,
   "id": "c4d4102e",
   "metadata": {},
   "outputs": [
    {
     "ename": "NameError",
     "evalue": "name 'user_poi_if_buy' is not defined",
     "output_type": "error",
     "traceback": [
      "\u001b[1;31m---------------------------------------------------------------------------\u001b[0m",
      "\u001b[1;31mNameError\u001b[0m                                 Traceback (most recent call last)",
      "\u001b[1;32mC:\\Users\\AXE-YU~1\\AppData\\Local\\Temp/ipykernel_8508/3534965513.py\u001b[0m in \u001b[0;36m<module>\u001b[1;34m\u001b[0m\n\u001b[1;32m----> 1\u001b[1;33m \u001b[0mdata\u001b[0m \u001b[1;33m=\u001b[0m \u001b[0mDataset\u001b[0m\u001b[1;33m.\u001b[0m\u001b[0mload_from_df\u001b[0m\u001b[1;33m(\u001b[0m\u001b[0muser_poi_if_buy\u001b[0m\u001b[1;33m,\u001b[0m \u001b[0mreader\u001b[0m\u001b[1;33m)\u001b[0m\u001b[1;33m\u001b[0m\u001b[1;33m\u001b[0m\u001b[0m\n\u001b[0m\u001b[0;32m      2\u001b[0m \u001b[1;31m# data.split(n_folds=5)\u001b[0m\u001b[1;33m\u001b[0m\u001b[1;33m\u001b[0m\u001b[1;33m\u001b[0m\u001b[0m\n",
      "\u001b[1;31mNameError\u001b[0m: name 'user_poi_if_buy' is not defined"
     ]
    }
   ],
   "source": [
    "data = Dataset.load_from_df(user_poi_if_buy, reader)\n",
    "# data.split(n_folds=5)"
   ]
  },
  {
   "cell_type": "code",
   "execution_count": 50,
   "id": "0fe01f63",
   "metadata": {},
   "outputs": [],
   "source": [
    "svd = SVD()\n",
    "cross_validate(svd, data, measures=['RMSE', 'MAE'])"
   ]
  },
  {
   "cell_type": "code",
   "execution_count": null,
   "id": "34da7d15",
   "metadata": {},
   "outputs": [],
   "source": [
    "trainset = data.build_full_trainset()\n",
    "svd.fit(trainset)"
   ]
  },
  {
   "cell_type": "code",
   "execution_count": null,
   "id": "f3184656",
   "metadata": {},
   "outputs": [],
   "source": [
    "ratings[ratings['userId'] == 1]"
   ]
  },
  {
   "cell_type": "code",
   "execution_count": null,
   "id": "880074c5",
   "metadata": {},
   "outputs": [],
   "source": [
    "svd.predict(1, 302, 3)"
   ]
  },
  {
   "cell_type": "code",
   "execution_count": null,
   "id": "99d49e3a",
   "metadata": {},
   "outputs": [],
   "source": []
  },
  {
   "cell_type": "code",
   "execution_count": null,
   "id": "7fae2ad8",
   "metadata": {},
   "outputs": [],
   "source": []
  },
  {
   "cell_type": "markdown",
   "id": "a568966b",
   "metadata": {},
   "source": [
    "## Embedding"
   ]
  },
  {
   "cell_type": "markdown",
   "id": "fba6360e",
   "metadata": {},
   "source": [
    "Data preparing"
   ]
  },
  {
   "cell_type": "code",
   "execution_count": 123,
   "id": "491d1232",
   "metadata": {},
   "outputs": [],
   "source": [
    "# user without info\n",
    "users_n_info = users['user_id'].to_frame()\n",
    "# users_n_info = users_n_info [:10000]"
   ]
  },
  {
   "cell_type": "code",
   "execution_count": 124,
   "id": "816410e9",
   "metadata": {},
   "outputs": [
    {
     "data": {
      "text/html": [
       "<div>\n",
       "<style scoped>\n",
       "    .dataframe tbody tr th:only-of-type {\n",
       "        vertical-align: middle;\n",
       "    }\n",
       "\n",
       "    .dataframe tbody tr th {\n",
       "        vertical-align: top;\n",
       "    }\n",
       "\n",
       "    .dataframe thead th {\n",
       "        text-align: right;\n",
       "    }\n",
       "</style>\n",
       "<table border=\"1\" class=\"dataframe\">\n",
       "  <thead>\n",
       "    <tr style=\"text-align: right;\">\n",
       "      <th></th>\n",
       "      <th>user_id</th>\n",
       "      <th>avg_pay_amt</th>\n",
       "      <th>avg_pay_amt_weekdays</th>\n",
       "      <th>avg_pay_amt_weekends</th>\n",
       "    </tr>\n",
       "  </thead>\n",
       "  <tbody>\n",
       "    <tr>\n",
       "      <th>0</th>\n",
       "      <td>0</td>\n",
       "      <td>[36,49)</td>\n",
       "      <td>[29,36)</td>\n",
       "      <td>[36,49)</td>\n",
       "    </tr>\n",
       "    <tr>\n",
       "      <th>1</th>\n",
       "      <td>1</td>\n",
       "      <td>[49,65)</td>\n",
       "      <td>[49,65)</td>\n",
       "      <td>&gt;=65</td>\n",
       "    </tr>\n",
       "    <tr>\n",
       "      <th>2</th>\n",
       "      <td>2</td>\n",
       "      <td>&lt;29</td>\n",
       "      <td>&lt;29</td>\n",
       "      <td>&lt;29</td>\n",
       "    </tr>\n",
       "    <tr>\n",
       "      <th>3</th>\n",
       "      <td>3</td>\n",
       "      <td>[49,65)</td>\n",
       "      <td>&gt;=65</td>\n",
       "      <td>[49,65)</td>\n",
       "    </tr>\n",
       "    <tr>\n",
       "      <th>4</th>\n",
       "      <td>4</td>\n",
       "      <td>[36,49)</td>\n",
       "      <td>未知</td>\n",
       "      <td>[49,65)</td>\n",
       "    </tr>\n",
       "    <tr>\n",
       "      <th>...</th>\n",
       "      <td>...</td>\n",
       "      <td>...</td>\n",
       "      <td>...</td>\n",
       "      <td>...</td>\n",
       "    </tr>\n",
       "    <tr>\n",
       "      <th>199995</th>\n",
       "      <td>199995</td>\n",
       "      <td>[36,49)</td>\n",
       "      <td>[36,49)</td>\n",
       "      <td>[36,49)</td>\n",
       "    </tr>\n",
       "    <tr>\n",
       "      <th>199996</th>\n",
       "      <td>199996</td>\n",
       "      <td>&gt;=65</td>\n",
       "      <td>&gt;=65</td>\n",
       "      <td>[49,65)</td>\n",
       "    </tr>\n",
       "    <tr>\n",
       "      <th>199997</th>\n",
       "      <td>199997</td>\n",
       "      <td>[36,49)</td>\n",
       "      <td>[36,49)</td>\n",
       "      <td>[36,49)</td>\n",
       "    </tr>\n",
       "    <tr>\n",
       "      <th>199998</th>\n",
       "      <td>199998</td>\n",
       "      <td>&lt;29</td>\n",
       "      <td>&lt;29</td>\n",
       "      <td>&lt;29</td>\n",
       "    </tr>\n",
       "    <tr>\n",
       "      <th>199999</th>\n",
       "      <td>199999</td>\n",
       "      <td>&lt;29</td>\n",
       "      <td>&lt;29</td>\n",
       "      <td>&lt;29</td>\n",
       "    </tr>\n",
       "  </tbody>\n",
       "</table>\n",
       "<p>200000 rows × 4 columns</p>\n",
       "</div>"
      ],
      "text/plain": [
       "        user_id avg_pay_amt avg_pay_amt_weekdays avg_pay_amt_weekends\n",
       "0             0     [36,49)              [29,36)              [36,49)\n",
       "1             1     [49,65)              [49,65)                 >=65\n",
       "2             2         <29                  <29                  <29\n",
       "3             3     [49,65)                 >=65              [49,65)\n",
       "4             4     [36,49)                   未知              [49,65)\n",
       "...         ...         ...                  ...                  ...\n",
       "199995   199995     [36,49)              [36,49)              [36,49)\n",
       "199996   199996        >=65                 >=65              [49,65)\n",
       "199997   199997     [36,49)              [36,49)              [36,49)\n",
       "199998   199998         <29                  <29                  <29\n",
       "199999   199999         <29                  <29                  <29\n",
       "\n",
       "[200000 rows x 4 columns]"
      ]
     },
     "execution_count": 124,
     "metadata": {},
     "output_type": "execute_result"
    }
   ],
   "source": [
    "users"
   ]
  },
  {
   "cell_type": "code",
   "execution_count": 125,
   "id": "792fabfc",
   "metadata": {},
   "outputs": [],
   "source": [
    "user_index = {user: user for user in users['user_id']}\n",
    "index_user = {idx: user for user, idx in user_index.items()}"
   ]
  },
  {
   "cell_type": "code",
   "execution_count": null,
   "id": "1ced662d",
   "metadata": {},
   "outputs": [],
   "source": []
  },
  {
   "cell_type": "code",
   "execution_count": 168,
   "id": "a66c9be1",
   "metadata": {},
   "outputs": [],
   "source": [
    "path = 'C:/Users/Axe-Yue-CHEN/Desktop/Online-Food-Merchant-Recommendation-Based-on-the-Meituan-Waimai-Application/原数据-20210301-20210328/pois.txt'\n",
    "pois = pd.read_csv(path, sep = \"\\t\")\n",
    "pois = pois[0:29070]"
   ]
  },
  {
   "cell_type": "code",
   "execution_count": 169,
   "id": "b7636ae9",
   "metadata": {},
   "outputs": [],
   "source": [
    "pois['wm_poi_id'] = pois['wm_poi_id'].astype('int')"
   ]
  },
  {
   "cell_type": "code",
   "execution_count": 176,
   "id": "75cb11ef",
   "metadata": {},
   "outputs": [
    {
     "data": {
      "text/html": [
       "<div>\n",
       "<style scoped>\n",
       "    .dataframe tbody tr th:only-of-type {\n",
       "        vertical-align: middle;\n",
       "    }\n",
       "\n",
       "    .dataframe tbody tr th {\n",
       "        vertical-align: top;\n",
       "    }\n",
       "\n",
       "    .dataframe thead th {\n",
       "        text-align: right;\n",
       "    }\n",
       "</style>\n",
       "<table border=\"1\" class=\"dataframe\">\n",
       "  <thead>\n",
       "    <tr style=\"text-align: right;\">\n",
       "      <th></th>\n",
       "      <th>wm_poi_id</th>\n",
       "      <th>wm_poi_name</th>\n",
       "      <th>primary_second_tag_name</th>\n",
       "      <th>primary_third_tag_name</th>\n",
       "      <th>primary_first_tag_name</th>\n",
       "      <th>poi_brand_id</th>\n",
       "      <th>aor_id</th>\n",
       "      <th>poi_score</th>\n",
       "      <th>delivery_comment_avg_score</th>\n",
       "      <th>food_comment_avg_score</th>\n",
       "    </tr>\n",
       "  </thead>\n",
       "  <tbody>\n",
       "    <tr>\n",
       "      <th>0</th>\n",
       "      <td>0</td>\n",
       "      <td>302658-52727-042150-121306-b3244-8f2156-713861...</td>\n",
       "      <td>0</td>\n",
       "      <td>0</td>\n",
       "      <td>0</td>\n",
       "      <td>0.0</td>\n",
       "      <td>0.0</td>\n",
       "      <td>4.66</td>\n",
       "      <td>4.87</td>\n",
       "      <td>4.61</td>\n",
       "    </tr>\n",
       "    <tr>\n",
       "      <th>1</th>\n",
       "      <td>1</td>\n",
       "      <td>253623-653615-4c2815-121306-0d1431-063761-4316...</td>\n",
       "      <td>0</td>\n",
       "      <td>0</td>\n",
       "      <td>0</td>\n",
       "      <td>1.0</td>\n",
       "      <td>5.0</td>\n",
       "      <td>4.79</td>\n",
       "      <td>4.97</td>\n",
       "      <td>4.82</td>\n",
       "    </tr>\n",
       "    <tr>\n",
       "      <th>2</th>\n",
       "      <td>2</td>\n",
       "      <td>604088-273896-e01010-1f2314-604088-082380-2333...</td>\n",
       "      <td>0</td>\n",
       "      <td>1</td>\n",
       "      <td>0</td>\n",
       "      <td>2.0</td>\n",
       "      <td>3.0</td>\n",
       "      <td>4.72</td>\n",
       "      <td>4.90</td>\n",
       "      <td>4.76</td>\n",
       "    </tr>\n",
       "    <tr>\n",
       "      <th>3</th>\n",
       "      <td>3</td>\n",
       "      <td>f71647-d32947-c53116-4a3834-121306-251713-a215...</td>\n",
       "      <td>1</td>\n",
       "      <td>2</td>\n",
       "      <td>0</td>\n",
       "      <td>3.0</td>\n",
       "      <td>1.0</td>\n",
       "      <td>4.85</td>\n",
       "      <td>4.88</td>\n",
       "      <td>4.85</td>\n",
       "    </tr>\n",
       "    <tr>\n",
       "      <th>4</th>\n",
       "      <td>4</td>\n",
       "      <td>141582-67198-aa3982-c62143-082380-233398-32329...</td>\n",
       "      <td>1</td>\n",
       "      <td>3</td>\n",
       "      <td>0</td>\n",
       "      <td>4.0</td>\n",
       "      <td>3.0</td>\n",
       "      <td>4.71</td>\n",
       "      <td>5.00</td>\n",
       "      <td>4.74</td>\n",
       "    </tr>\n",
       "    <tr>\n",
       "      <th>...</th>\n",
       "      <td>...</td>\n",
       "      <td>...</td>\n",
       "      <td>...</td>\n",
       "      <td>...</td>\n",
       "      <td>...</td>\n",
       "      <td>...</td>\n",
       "      <td>...</td>\n",
       "      <td>...</td>\n",
       "      <td>...</td>\n",
       "      <td>...</td>\n",
       "    </tr>\n",
       "    <tr>\n",
       "      <th>29065</th>\n",
       "      <td>29065</td>\n",
       "      <td>6a3579-bb3653-262624-e41314-6f228-121306-b31-9...</td>\n",
       "      <td>1</td>\n",
       "      <td>14</td>\n",
       "      <td>0</td>\n",
       "      <td>1742.0</td>\n",
       "      <td>NaN</td>\n",
       "      <td>4.47</td>\n",
       "      <td>4.73</td>\n",
       "      <td>4.52</td>\n",
       "    </tr>\n",
       "    <tr>\n",
       "      <th>29066</th>\n",
       "      <td>29066</td>\n",
       "      <td>912577-cc2258-231660-b1749-133334-121306-40292...</td>\n",
       "      <td>21</td>\n",
       "      <td>未知</td>\n",
       "      <td>5</td>\n",
       "      <td>NaN</td>\n",
       "      <td>NaN</td>\n",
       "      <td>4.83</td>\n",
       "      <td>5.00</td>\n",
       "      <td>0.00</td>\n",
       "    </tr>\n",
       "    <tr>\n",
       "      <th>29067</th>\n",
       "      <td>29067</td>\n",
       "      <td>b51328-b43550-8d3237-f83517-121306-043458-c671...</td>\n",
       "      <td>0</td>\n",
       "      <td>15</td>\n",
       "      <td>0</td>\n",
       "      <td>8.0</td>\n",
       "      <td>NaN</td>\n",
       "      <td>4.68</td>\n",
       "      <td>4.95</td>\n",
       "      <td>4.68</td>\n",
       "    </tr>\n",
       "    <tr>\n",
       "      <th>29068</th>\n",
       "      <td>29068</td>\n",
       "      <td>84752-6f1663-d13754-a13945-fa4015-2b3552-c5311...</td>\n",
       "      <td>7</td>\n",
       "      <td>36</td>\n",
       "      <td>0</td>\n",
       "      <td>8.0</td>\n",
       "      <td>NaN</td>\n",
       "      <td>4.43</td>\n",
       "      <td>4.81</td>\n",
       "      <td>4.48</td>\n",
       "    </tr>\n",
       "    <tr>\n",
       "      <th>29069</th>\n",
       "      <td>29069</td>\n",
       "      <td>52727-f51944-111881-121306-682644-28807-a93922...</td>\n",
       "      <td>40</td>\n",
       "      <td>未知</td>\n",
       "      <td>3</td>\n",
       "      <td>NaN</td>\n",
       "      <td>NaN</td>\n",
       "      <td>4.56</td>\n",
       "      <td>5.00</td>\n",
       "      <td>0.00</td>\n",
       "    </tr>\n",
       "  </tbody>\n",
       "</table>\n",
       "<p>29070 rows × 10 columns</p>\n",
       "</div>"
      ],
      "text/plain": [
       "       wm_poi_id                                        wm_poi_name  \\\n",
       "0              0  302658-52727-042150-121306-b3244-8f2156-713861...   \n",
       "1              1  253623-653615-4c2815-121306-0d1431-063761-4316...   \n",
       "2              2  604088-273896-e01010-1f2314-604088-082380-2333...   \n",
       "3              3  f71647-d32947-c53116-4a3834-121306-251713-a215...   \n",
       "4              4  141582-67198-aa3982-c62143-082380-233398-32329...   \n",
       "...          ...                                                ...   \n",
       "29065      29065  6a3579-bb3653-262624-e41314-6f228-121306-b31-9...   \n",
       "29066      29066  912577-cc2258-231660-b1749-133334-121306-40292...   \n",
       "29067      29067  b51328-b43550-8d3237-f83517-121306-043458-c671...   \n",
       "29068      29068  84752-6f1663-d13754-a13945-fa4015-2b3552-c5311...   \n",
       "29069      29069  52727-f51944-111881-121306-682644-28807-a93922...   \n",
       "\n",
       "      primary_second_tag_name primary_third_tag_name primary_first_tag_name  \\\n",
       "0                           0                      0                      0   \n",
       "1                           0                      0                      0   \n",
       "2                           0                      1                      0   \n",
       "3                           1                      2                      0   \n",
       "4                           1                      3                      0   \n",
       "...                       ...                    ...                    ...   \n",
       "29065                       1                     14                      0   \n",
       "29066                      21                     未知                      5   \n",
       "29067                       0                     15                      0   \n",
       "29068                       7                     36                      0   \n",
       "29069                      40                     未知                      3   \n",
       "\n",
       "       poi_brand_id  aor_id  poi_score  delivery_comment_avg_score  \\\n",
       "0               0.0     0.0       4.66                        4.87   \n",
       "1               1.0     5.0       4.79                        4.97   \n",
       "2               2.0     3.0       4.72                        4.90   \n",
       "3               3.0     1.0       4.85                        4.88   \n",
       "4               4.0     3.0       4.71                        5.00   \n",
       "...             ...     ...        ...                         ...   \n",
       "29065        1742.0     NaN       4.47                        4.73   \n",
       "29066           NaN     NaN       4.83                        5.00   \n",
       "29067           8.0     NaN       4.68                        4.95   \n",
       "29068           8.0     NaN       4.43                        4.81   \n",
       "29069           NaN     NaN       4.56                        5.00   \n",
       "\n",
       "       food_comment_avg_score  \n",
       "0                        4.61  \n",
       "1                        4.82  \n",
       "2                        4.76  \n",
       "3                        4.85  \n",
       "4                        4.74  \n",
       "...                       ...  \n",
       "29065                    4.52  \n",
       "29066                    0.00  \n",
       "29067                    4.68  \n",
       "29068                    4.48  \n",
       "29069                    0.00  \n",
       "\n",
       "[29070 rows x 10 columns]"
      ]
     },
     "execution_count": 176,
     "metadata": {},
     "output_type": "execute_result"
    }
   ],
   "source": [
    "pois"
   ]
  },
  {
   "cell_type": "code",
   "execution_count": 174,
   "id": "68679c61",
   "metadata": {},
   "outputs": [],
   "source": [
    "poi_index = {poi: poi for poi in pois['wm_poi_id']}\n",
    "index_poi = {idx: poi for poi, idx in poi_index.items()}"
   ]
  },
  {
   "cell_type": "code",
   "execution_count": null,
   "id": "bcbf3fd6",
   "metadata": {},
   "outputs": [],
   "source": []
  },
  {
   "cell_type": "code",
   "execution_count": 126,
   "id": "bc993e8d",
   "metadata": {},
   "outputs": [],
   "source": [
    "# order record\n",
    "user_poi_buy = orders_train[['user_id','wm_poi_id']]\n",
    "# user_poi_buy = user_poi_buy [:3000]"
   ]
  },
  {
   "cell_type": "code",
   "execution_count": 127,
   "id": "d087b298",
   "metadata": {},
   "outputs": [
    {
     "name": "stderr",
     "output_type": "stream",
     "text": [
      "C:\\Users\\AXE-YU~1\\AppData\\Local\\Temp/ipykernel_8508/1166971434.py:1: SettingWithCopyWarning: \n",
      "A value is trying to be set on a copy of a slice from a DataFrame.\n",
      "Try using .loc[row_indexer,col_indexer] = value instead\n",
      "\n",
      "See the caveats in the documentation: https://pandas.pydata.org/pandas-docs/stable/user_guide/indexing.html#returning-a-view-versus-a-copy\n",
      "  user_poi_buy['if_buy'] = 1\n"
     ]
    }
   ],
   "source": [
    "user_poi_buy['if_buy'] = 1"
   ]
  },
  {
   "cell_type": "code",
   "execution_count": 128,
   "id": "fc274d4f",
   "metadata": {},
   "outputs": [],
   "source": [
    "# user poi relationship 0 "
   ]
  },
  {
   "cell_type": "code",
   "execution_count": 129,
   "id": "302a40b7",
   "metadata": {
    "collapsed": true
   },
   "outputs": [
    {
     "ename": "MemoryError",
     "evalue": "Unable to allocate 1.55 TiB for an array with shape (213699000000,) and data type int64",
     "output_type": "error",
     "traceback": [
      "\u001b[1;31m---------------------------------------------------------------------------\u001b[0m",
      "\u001b[1;31mMemoryError\u001b[0m                               Traceback (most recent call last)",
      "\u001b[1;32mC:\\Users\\AXE-YU~1\\AppData\\Local\\Temp/ipykernel_8508/3713264701.py\u001b[0m in \u001b[0;36m<module>\u001b[1;34m\u001b[0m\n\u001b[1;32m----> 1\u001b[1;33m \u001b[0muser_poi_0\u001b[0m \u001b[1;33m=\u001b[0m \u001b[0mpd\u001b[0m\u001b[1;33m.\u001b[0m\u001b[0mmerge\u001b[0m\u001b[1;33m(\u001b[0m\u001b[0musers_n_info\u001b[0m\u001b[1;33m.\u001b[0m\u001b[0massign\u001b[0m\u001b[1;33m(\u001b[0m\u001b[0mkey\u001b[0m\u001b[1;33m=\u001b[0m\u001b[1;36m1\u001b[0m\u001b[1;33m)\u001b[0m\u001b[1;33m,\u001b[0m \u001b[0muser_poi_buy\u001b[0m\u001b[1;33m[\u001b[0m\u001b[1;34m'wm_poi_id'\u001b[0m\u001b[1;33m]\u001b[0m\u001b[1;33m.\u001b[0m\u001b[0mto_frame\u001b[0m\u001b[1;33m(\u001b[0m\u001b[1;33m)\u001b[0m\u001b[1;33m.\u001b[0m\u001b[0massign\u001b[0m\u001b[1;33m(\u001b[0m\u001b[0mkey\u001b[0m\u001b[1;33m=\u001b[0m\u001b[1;36m1\u001b[0m\u001b[1;33m)\u001b[0m\u001b[1;33m,\u001b[0m\u001b[0mon\u001b[0m\u001b[1;33m=\u001b[0m\u001b[1;34m'key'\u001b[0m\u001b[1;33m)\u001b[0m\u001b[1;33m.\u001b[0m\u001b[0mdrop\u001b[0m\u001b[1;33m(\u001b[0m\u001b[1;34m'key'\u001b[0m\u001b[1;33m,\u001b[0m\u001b[1;36m1\u001b[0m\u001b[1;33m)\u001b[0m\u001b[1;33m\u001b[0m\u001b[1;33m\u001b[0m\u001b[0m\n\u001b[0m",
      "\u001b[1;32m~\\anaconda3\\lib\\site-packages\\pandas\\core\\reshape\\merge.py\u001b[0m in \u001b[0;36mmerge\u001b[1;34m(left, right, how, on, left_on, right_on, left_index, right_index, sort, suffixes, copy, indicator, validate)\u001b[0m\n\u001b[0;32m    119\u001b[0m         \u001b[0mvalidate\u001b[0m\u001b[1;33m=\u001b[0m\u001b[0mvalidate\u001b[0m\u001b[1;33m,\u001b[0m\u001b[1;33m\u001b[0m\u001b[1;33m\u001b[0m\u001b[0m\n\u001b[0;32m    120\u001b[0m     )\n\u001b[1;32m--> 121\u001b[1;33m     \u001b[1;32mreturn\u001b[0m \u001b[0mop\u001b[0m\u001b[1;33m.\u001b[0m\u001b[0mget_result\u001b[0m\u001b[1;33m(\u001b[0m\u001b[1;33m)\u001b[0m\u001b[1;33m\u001b[0m\u001b[1;33m\u001b[0m\u001b[0m\n\u001b[0m\u001b[0;32m    122\u001b[0m \u001b[1;33m\u001b[0m\u001b[0m\n\u001b[0;32m    123\u001b[0m \u001b[1;33m\u001b[0m\u001b[0m\n",
      "\u001b[1;32m~\\anaconda3\\lib\\site-packages\\pandas\\core\\reshape\\merge.py\u001b[0m in \u001b[0;36mget_result\u001b[1;34m(self)\u001b[0m\n\u001b[0;32m    713\u001b[0m             \u001b[0mself\u001b[0m\u001b[1;33m.\u001b[0m\u001b[0mleft\u001b[0m\u001b[1;33m,\u001b[0m \u001b[0mself\u001b[0m\u001b[1;33m.\u001b[0m\u001b[0mright\u001b[0m \u001b[1;33m=\u001b[0m \u001b[0mself\u001b[0m\u001b[1;33m.\u001b[0m\u001b[0m_indicator_pre_merge\u001b[0m\u001b[1;33m(\u001b[0m\u001b[0mself\u001b[0m\u001b[1;33m.\u001b[0m\u001b[0mleft\u001b[0m\u001b[1;33m,\u001b[0m \u001b[0mself\u001b[0m\u001b[1;33m.\u001b[0m\u001b[0mright\u001b[0m\u001b[1;33m)\u001b[0m\u001b[1;33m\u001b[0m\u001b[1;33m\u001b[0m\u001b[0m\n\u001b[0;32m    714\u001b[0m \u001b[1;33m\u001b[0m\u001b[0m\n\u001b[1;32m--> 715\u001b[1;33m         \u001b[0mjoin_index\u001b[0m\u001b[1;33m,\u001b[0m \u001b[0mleft_indexer\u001b[0m\u001b[1;33m,\u001b[0m \u001b[0mright_indexer\u001b[0m \u001b[1;33m=\u001b[0m \u001b[0mself\u001b[0m\u001b[1;33m.\u001b[0m\u001b[0m_get_join_info\u001b[0m\u001b[1;33m(\u001b[0m\u001b[1;33m)\u001b[0m\u001b[1;33m\u001b[0m\u001b[1;33m\u001b[0m\u001b[0m\n\u001b[0m\u001b[0;32m    716\u001b[0m \u001b[1;33m\u001b[0m\u001b[0m\n\u001b[0;32m    717\u001b[0m         llabels, rlabels = _items_overlap_with_suffix(\n",
      "\u001b[1;32m~\\anaconda3\\lib\\site-packages\\pandas\\core\\reshape\\merge.py\u001b[0m in \u001b[0;36m_get_join_info\u001b[1;34m(self)\u001b[0m\n\u001b[0;32m    964\u001b[0m             )\n\u001b[0;32m    965\u001b[0m         \u001b[1;32melse\u001b[0m\u001b[1;33m:\u001b[0m\u001b[1;33m\u001b[0m\u001b[1;33m\u001b[0m\u001b[0m\n\u001b[1;32m--> 966\u001b[1;33m             \u001b[1;33m(\u001b[0m\u001b[0mleft_indexer\u001b[0m\u001b[1;33m,\u001b[0m \u001b[0mright_indexer\u001b[0m\u001b[1;33m)\u001b[0m \u001b[1;33m=\u001b[0m \u001b[0mself\u001b[0m\u001b[1;33m.\u001b[0m\u001b[0m_get_join_indexers\u001b[0m\u001b[1;33m(\u001b[0m\u001b[1;33m)\u001b[0m\u001b[1;33m\u001b[0m\u001b[1;33m\u001b[0m\u001b[0m\n\u001b[0m\u001b[0;32m    967\u001b[0m \u001b[1;33m\u001b[0m\u001b[0m\n\u001b[0;32m    968\u001b[0m             \u001b[1;32mif\u001b[0m \u001b[0mself\u001b[0m\u001b[1;33m.\u001b[0m\u001b[0mright_index\u001b[0m\u001b[1;33m:\u001b[0m\u001b[1;33m\u001b[0m\u001b[1;33m\u001b[0m\u001b[0m\n",
      "\u001b[1;32m~\\anaconda3\\lib\\site-packages\\pandas\\core\\reshape\\merge.py\u001b[0m in \u001b[0;36m_get_join_indexers\u001b[1;34m(self)\u001b[0m\n\u001b[0;32m    938\u001b[0m         \u001b[1;34m\"\"\"return the join indexers\"\"\"\u001b[0m\u001b[1;33m\u001b[0m\u001b[1;33m\u001b[0m\u001b[0m\n\u001b[0;32m    939\u001b[0m         \u001b[1;31m# Both returned ndarrays are np.intp\u001b[0m\u001b[1;33m\u001b[0m\u001b[1;33m\u001b[0m\u001b[1;33m\u001b[0m\u001b[0m\n\u001b[1;32m--> 940\u001b[1;33m         return get_join_indexers(\n\u001b[0m\u001b[0;32m    941\u001b[0m             \u001b[0mself\u001b[0m\u001b[1;33m.\u001b[0m\u001b[0mleft_join_keys\u001b[0m\u001b[1;33m,\u001b[0m \u001b[0mself\u001b[0m\u001b[1;33m.\u001b[0m\u001b[0mright_join_keys\u001b[0m\u001b[1;33m,\u001b[0m \u001b[0msort\u001b[0m\u001b[1;33m=\u001b[0m\u001b[0mself\u001b[0m\u001b[1;33m.\u001b[0m\u001b[0msort\u001b[0m\u001b[1;33m,\u001b[0m \u001b[0mhow\u001b[0m\u001b[1;33m=\u001b[0m\u001b[0mself\u001b[0m\u001b[1;33m.\u001b[0m\u001b[0mhow\u001b[0m\u001b[1;33m\u001b[0m\u001b[1;33m\u001b[0m\u001b[0m\n\u001b[0;32m    942\u001b[0m         )\n",
      "\u001b[1;32m~\\anaconda3\\lib\\site-packages\\pandas\\core\\reshape\\merge.py\u001b[0m in \u001b[0;36mget_join_indexers\u001b[1;34m(left_keys, right_keys, sort, how, **kwargs)\u001b[0m\n\u001b[0;32m   1504\u001b[0m \u001b[1;33m\u001b[0m\u001b[0m\n\u001b[0;32m   1505\u001b[0m     \u001b[1;31m# error: Cannot call function of unknown type\u001b[0m\u001b[1;33m\u001b[0m\u001b[1;33m\u001b[0m\u001b[1;33m\u001b[0m\u001b[0m\n\u001b[1;32m-> 1506\u001b[1;33m     \u001b[1;32mreturn\u001b[0m \u001b[0mjoin_func\u001b[0m\u001b[1;33m(\u001b[0m\u001b[0mlkey\u001b[0m\u001b[1;33m,\u001b[0m \u001b[0mrkey\u001b[0m\u001b[1;33m,\u001b[0m \u001b[0mcount\u001b[0m\u001b[1;33m,\u001b[0m \u001b[1;33m**\u001b[0m\u001b[0mkwargs\u001b[0m\u001b[1;33m)\u001b[0m  \u001b[1;31m# type: ignore[operator]\u001b[0m\u001b[1;33m\u001b[0m\u001b[1;33m\u001b[0m\u001b[0m\n\u001b[0m\u001b[0;32m   1507\u001b[0m \u001b[1;33m\u001b[0m\u001b[0m\n\u001b[0;32m   1508\u001b[0m \u001b[1;33m\u001b[0m\u001b[0m\n",
      "\u001b[1;32m~\\anaconda3\\lib\\site-packages\\pandas\\_libs\\join.pyx\u001b[0m in \u001b[0;36mpandas._libs.join.inner_join\u001b[1;34m()\u001b[0m\n",
      "\u001b[1;31mMemoryError\u001b[0m: Unable to allocate 1.55 TiB for an array with shape (213699000000,) and data type int64"
     ]
    }
   ],
   "source": [
    "user_poi_0 = pd.merge(users_n_info.assign(key=1), user_poi_buy['wm_poi_id'].to_frame().assign(key=1),on='key').drop('key',1)"
   ]
  },
  {
   "cell_type": "code",
   "execution_count": 130,
   "id": "e6fb6bd5",
   "metadata": {},
   "outputs": [],
   "source": [
    "user_poi_0['if_buy'] = 0"
   ]
  },
  {
   "cell_type": "code",
   "execution_count": 131,
   "id": "38090f56",
   "metadata": {},
   "outputs": [],
   "source": [
    "# user poi relationship"
   ]
  },
  {
   "cell_type": "code",
   "execution_count": 132,
   "id": "72529ad6",
   "metadata": {},
   "outputs": [],
   "source": [
    "user_poi_if_buy = pd.merge(user_poi_0, user_poi_buy, on = ['user_id','wm_poi_id'], how = 'left')"
   ]
  },
  {
   "cell_type": "code",
   "execution_count": 133,
   "id": "3d775e46",
   "metadata": {},
   "outputs": [],
   "source": [
    "user_poi_if_buy['if_buy'] = user_poi_if_buy['if_buy_x'] + user_poi_if_buy['if_buy_y']\n",
    "user_poi_if_buy = user_poi_if_buy[['user_id','wm_poi_id','if_buy']]\n",
    "user_poi_if_buy = user_poi_if_buy.fillna(0)"
   ]
  },
  {
   "cell_type": "code",
   "execution_count": null,
   "id": "3db870f3",
   "metadata": {},
   "outputs": [],
   "source": []
  },
  {
   "cell_type": "markdown",
   "id": "dac8c917",
   "metadata": {},
   "source": [
    "**Embedding model needs a training set.** We are going to treat this as a supervised learning problem: given a pair (user, poi), we want the neural network to learn to predict whether this is a legitimate pair - present in the data - or not."
   ]
  },
  {
   "cell_type": "code",
   "execution_count": null,
   "id": "9f67da2b",
   "metadata": {},
   "outputs": [],
   "source": [
    "# positive links between users and pois"
   ]
  },
  {
   "cell_type": "code",
   "execution_count": 134,
   "id": "b6ed3a2a",
   "metadata": {},
   "outputs": [
    {
     "data": {
      "text/html": [
       "<div>\n",
       "<style scoped>\n",
       "    .dataframe tbody tr th:only-of-type {\n",
       "        vertical-align: middle;\n",
       "    }\n",
       "\n",
       "    .dataframe tbody tr th {\n",
       "        vertical-align: top;\n",
       "    }\n",
       "\n",
       "    .dataframe thead th {\n",
       "        text-align: right;\n",
       "    }\n",
       "</style>\n",
       "<table border=\"1\" class=\"dataframe\">\n",
       "  <thead>\n",
       "    <tr style=\"text-align: right;\">\n",
       "      <th></th>\n",
       "      <th>user_id</th>\n",
       "      <th>wm_poi_id</th>\n",
       "      <th>if_buy</th>\n",
       "    </tr>\n",
       "  </thead>\n",
       "  <tbody>\n",
       "    <tr>\n",
       "      <th>0</th>\n",
       "      <td>120037</td>\n",
       "      <td>1806</td>\n",
       "      <td>1</td>\n",
       "    </tr>\n",
       "    <tr>\n",
       "      <th>1</th>\n",
       "      <td>135109</td>\n",
       "      <td>970</td>\n",
       "      <td>1</td>\n",
       "    </tr>\n",
       "    <tr>\n",
       "      <th>2</th>\n",
       "      <td>146736</td>\n",
       "      <td>1945</td>\n",
       "      <td>1</td>\n",
       "    </tr>\n",
       "    <tr>\n",
       "      <th>3</th>\n",
       "      <td>83644</td>\n",
       "      <td>708</td>\n",
       "      <td>1</td>\n",
       "    </tr>\n",
       "    <tr>\n",
       "      <th>4</th>\n",
       "      <td>117903</td>\n",
       "      <td>2366</td>\n",
       "      <td>1</td>\n",
       "    </tr>\n",
       "    <tr>\n",
       "      <th>...</th>\n",
       "      <td>...</td>\n",
       "      <td>...</td>\n",
       "      <td>...</td>\n",
       "    </tr>\n",
       "    <tr>\n",
       "      <th>1068490</th>\n",
       "      <td>33987</td>\n",
       "      <td>378</td>\n",
       "      <td>1</td>\n",
       "    </tr>\n",
       "    <tr>\n",
       "      <th>1068491</th>\n",
       "      <td>75439</td>\n",
       "      <td>2274</td>\n",
       "      <td>1</td>\n",
       "    </tr>\n",
       "    <tr>\n",
       "      <th>1068492</th>\n",
       "      <td>16555</td>\n",
       "      <td>1199</td>\n",
       "      <td>1</td>\n",
       "    </tr>\n",
       "    <tr>\n",
       "      <th>1068493</th>\n",
       "      <td>119357</td>\n",
       "      <td>2203</td>\n",
       "      <td>1</td>\n",
       "    </tr>\n",
       "    <tr>\n",
       "      <th>1068494</th>\n",
       "      <td>155481</td>\n",
       "      <td>423</td>\n",
       "      <td>1</td>\n",
       "    </tr>\n",
       "  </tbody>\n",
       "</table>\n",
       "<p>1068495 rows × 3 columns</p>\n",
       "</div>"
      ],
      "text/plain": [
       "         user_id  wm_poi_id  if_buy\n",
       "0         120037       1806       1\n",
       "1         135109        970       1\n",
       "2         146736       1945       1\n",
       "3          83644        708       1\n",
       "4         117903       2366       1\n",
       "...          ...        ...     ...\n",
       "1068490    33987        378       1\n",
       "1068491    75439       2274       1\n",
       "1068492    16555       1199       1\n",
       "1068493   119357       2203       1\n",
       "1068494   155481        423       1\n",
       "\n",
       "[1068495 rows x 3 columns]"
      ]
     },
     "execution_count": 134,
     "metadata": {},
     "output_type": "execute_result"
    }
   ],
   "source": [
    "user_poi_buy"
   ]
  },
  {
   "cell_type": "code",
   "execution_count": 135,
   "id": "b062b936",
   "metadata": {},
   "outputs": [],
   "source": [
    "pos_link_list = user_poi_buy[['user_id','wm_poi_id']].values.tolist()\n",
    "pos_pairs = [tuple(link) for link in pos_link_list]\n",
    "pos_pairs_set = set(pos_pairs)"
   ]
  },
  {
   "cell_type": "code",
   "execution_count": 136,
   "id": "be668913",
   "metadata": {},
   "outputs": [
    {
     "data": {
      "text/plain": [
       "750529"
      ]
     },
     "execution_count": 136,
     "metadata": {},
     "output_type": "execute_result"
    }
   ],
   "source": [
    "len(pos_pairs_set)"
   ]
  },
  {
   "cell_type": "code",
   "execution_count": 137,
   "id": "d31a8500",
   "metadata": {},
   "outputs": [],
   "source": [
    "# negative links between users and pois"
   ]
  },
  {
   "cell_type": "code",
   "execution_count": 138,
   "id": "243fe44e",
   "metadata": {
    "collapsed": true
   },
   "outputs": [
    {
     "data": {
      "text/html": [
       "<div>\n",
       "<style scoped>\n",
       "    .dataframe tbody tr th:only-of-type {\n",
       "        vertical-align: middle;\n",
       "    }\n",
       "\n",
       "    .dataframe tbody tr th {\n",
       "        vertical-align: top;\n",
       "    }\n",
       "\n",
       "    .dataframe thead th {\n",
       "        text-align: right;\n",
       "    }\n",
       "</style>\n",
       "<table border=\"1\" class=\"dataframe\">\n",
       "  <thead>\n",
       "    <tr style=\"text-align: right;\">\n",
       "      <th></th>\n",
       "      <th>user_id</th>\n",
       "      <th>wm_poi_id</th>\n",
       "      <th>if_buy</th>\n",
       "    </tr>\n",
       "  </thead>\n",
       "  <tbody>\n",
       "    <tr>\n",
       "      <th>0</th>\n",
       "      <td>0</td>\n",
       "      <td>1806</td>\n",
       "      <td>0</td>\n",
       "    </tr>\n",
       "    <tr>\n",
       "      <th>1</th>\n",
       "      <td>0</td>\n",
       "      <td>970</td>\n",
       "      <td>0</td>\n",
       "    </tr>\n",
       "    <tr>\n",
       "      <th>2</th>\n",
       "      <td>0</td>\n",
       "      <td>1945</td>\n",
       "      <td>0</td>\n",
       "    </tr>\n",
       "    <tr>\n",
       "      <th>3</th>\n",
       "      <td>0</td>\n",
       "      <td>708</td>\n",
       "      <td>0</td>\n",
       "    </tr>\n",
       "    <tr>\n",
       "      <th>4</th>\n",
       "      <td>0</td>\n",
       "      <td>2366</td>\n",
       "      <td>0</td>\n",
       "    </tr>\n",
       "    <tr>\n",
       "      <th>...</th>\n",
       "      <td>...</td>\n",
       "      <td>...</td>\n",
       "      <td>...</td>\n",
       "    </tr>\n",
       "    <tr>\n",
       "      <th>2999995</th>\n",
       "      <td>999</td>\n",
       "      <td>812</td>\n",
       "      <td>0</td>\n",
       "    </tr>\n",
       "    <tr>\n",
       "      <th>2999996</th>\n",
       "      <td>999</td>\n",
       "      <td>2120</td>\n",
       "      <td>0</td>\n",
       "    </tr>\n",
       "    <tr>\n",
       "      <th>2999997</th>\n",
       "      <td>999</td>\n",
       "      <td>1781</td>\n",
       "      <td>0</td>\n",
       "    </tr>\n",
       "    <tr>\n",
       "      <th>2999998</th>\n",
       "      <td>999</td>\n",
       "      <td>2624</td>\n",
       "      <td>0</td>\n",
       "    </tr>\n",
       "    <tr>\n",
       "      <th>2999999</th>\n",
       "      <td>999</td>\n",
       "      <td>1733</td>\n",
       "      <td>0</td>\n",
       "    </tr>\n",
       "  </tbody>\n",
       "</table>\n",
       "<p>3000000 rows × 3 columns</p>\n",
       "</div>"
      ],
      "text/plain": [
       "         user_id  wm_poi_id  if_buy\n",
       "0              0       1806       0\n",
       "1              0        970       0\n",
       "2              0       1945       0\n",
       "3              0        708       0\n",
       "4              0       2366       0\n",
       "...          ...        ...     ...\n",
       "2999995      999        812       0\n",
       "2999996      999       2120       0\n",
       "2999997      999       1781       0\n",
       "2999998      999       2624       0\n",
       "2999999      999       1733       0\n",
       "\n",
       "[3000000 rows x 3 columns]"
      ]
     },
     "execution_count": 138,
     "metadata": {},
     "output_type": "execute_result"
    }
   ],
   "source": [
    "user_poi_0"
   ]
  },
  {
   "cell_type": "code",
   "execution_count": 139,
   "id": "496b06e3",
   "metadata": {},
   "outputs": [],
   "source": [
    "neg_link_list = user_poi_0[['user_id','wm_poi_id']].values.tolist()\n",
    "neg_pairs = [tuple(link) for link in neg_link_list]\n",
    "neg_pairs_set = set(neg_pairs)"
   ]
  },
  {
   "cell_type": "code",
   "execution_count": 140,
   "id": "88126cf4",
   "metadata": {},
   "outputs": [
    {
     "data": {
      "text/plain": [
       "773000"
      ]
     },
     "execution_count": 140,
     "metadata": {},
     "output_type": "execute_result"
    }
   ],
   "source": [
    "len(neg_pairs_set)"
   ]
  },
  {
   "cell_type": "markdown",
   "id": "0c83dc8c",
   "metadata": {},
   "source": [
    "To compute the embeddings, we are **not going to create a separate validation or testing set.** While this is a must for a normal supervised machine learning task, in this case, our primary objective is not to make the most accurate model, but to generate the best embeddings. The prediction task is just the method through which we train our network to make the embeddings. At the end of training, we are not going to be testing our model on new data, so we don't need to evaluate the performance. "
   ]
  },
  {
   "cell_type": "markdown",
   "id": "e6697937",
   "metadata": {},
   "source": [
    "The code below creates **a generator that yields batches of samples each time it is called**. Neural networks are trained incrementally - a batch at a time - which means that a generator is a useful function for returning examples on which to train. "
   ]
  },
  {
   "cell_type": "code",
   "execution_count": 141,
   "id": "2e6edf6f",
   "metadata": {},
   "outputs": [],
   "source": [
    "import random\n",
    "random.seed(100)\n",
    "def generate_batch(pairs, n_positive = 50, negative_ratio = 1.0, classification = True):\n",
    "    \"\"\"Generate batches of samples for training\"\"\"\n",
    "    batch_size = n_positive * (1 + negative_ratio)\n",
    "    batch = np.zeros((batch_size, 3))\n",
    "    \n",
    "    # Adjust label based on task\n",
    "    if classification:\n",
    "        neg_label = 0\n",
    "    else:\n",
    "        neg_label = -1\n",
    "    \n",
    "    # This creates a generator\n",
    "    while True:\n",
    "        # randomly choose positive examples\n",
    "        for idx, (user_id, wm_poi_id) in enumerate(random.sample(pairs, n_positive)):\n",
    "            batch[idx, :] = (user_id, wm_poi_id, 1)\n",
    "\n",
    "        # Increment idx by 1\n",
    "        idx += 1\n",
    "        \n",
    "        # Add negative examples until reach batch size\n",
    "        while idx < batch_size:\n",
    "            \n",
    "            # random selection\n",
    "            random_user = random.randrange(len(users))\n",
    "            random_poi = random.randrange(len(pois))\n",
    "            \n",
    "            # Check to make sure this is not a positive example\n",
    "            if (random_user, random_poi) not in pos_pairs_set:\n",
    "                \n",
    "                # Add to batch and increment index\n",
    "                batch[idx, :] = (random_user, random_poi, neg_label)\n",
    "                idx += 1\n",
    "                \n",
    "        # Make sure to shuffle order\n",
    "        np.random.shuffle(batch)\n",
    "        yield {'user': batch[:, 0], 'poi': batch[:, 1]}, batch[:, 2]"
   ]
  },
  {
   "cell_type": "code",
   "execution_count": 142,
   "id": "306d6bb8",
   "metadata": {},
   "outputs": [
    {
     "data": {
      "text/plain": [
       "({'user': array([ 28827.,  91681., 120751., 103031., 177770., 132871., 119256.,\n",
       "          45809.]),\n",
       "  'poi': array([17462., 14205.,    48., 23984.,  2897., 26215., 25257., 23118.])},\n",
       " array([0., 0., 1., 0., 1., 0., 0., 0.]))"
      ]
     },
     "execution_count": 142,
     "metadata": {},
     "output_type": "execute_result"
    }
   ],
   "source": [
    "next(generate_batch(pos_pairs, n_positive = 2, negative_ratio = 3))"
   ]
  },
  {
   "cell_type": "markdown",
   "id": "2f7da32c",
   "metadata": {},
   "source": [
    "**Neural Network Embedding Model**"
   ]
  },
  {
   "cell_type": "code",
   "execution_count": 143,
   "id": "ed0227ad",
   "metadata": {},
   "outputs": [],
   "source": [
    "# pip install keras"
   ]
  },
  {
   "cell_type": "code",
   "execution_count": 144,
   "id": "8a79ae36",
   "metadata": {},
   "outputs": [],
   "source": [
    "# pip install tensorflow"
   ]
  },
  {
   "cell_type": "code",
   "execution_count": 145,
   "id": "835c1139",
   "metadata": {},
   "outputs": [],
   "source": [
    "from keras.layers import Input, Embedding, Dot, Reshape, Dense\n",
    "from keras.models import Model"
   ]
  },
  {
   "cell_type": "code",
   "execution_count": 146,
   "id": "4e027248",
   "metadata": {},
   "outputs": [
    {
     "name": "stdout",
     "output_type": "stream",
     "text": [
      "Model: \"model_1\"\n",
      "__________________________________________________________________________________________________\n",
      " Layer (type)                   Output Shape         Param #     Connected to                     \n",
      "==================================================================================================\n",
      " user (InputLayer)              [(None, 1)]          0           []                               \n",
      "                                                                                                  \n",
      " poi (InputLayer)               [(None, 1)]          0           []                               \n",
      "                                                                                                  \n",
      " user_embedding (Embedding)     (None, 1, 50)        10000000    ['user[0][0]']                   \n",
      "                                                                                                  \n",
      " poi_embedding (Embedding)      (None, 1, 50)        1453500     ['poi[0][0]']                    \n",
      "                                                                                                  \n",
      " dot_product (Dot)              (None, 1, 1)         0           ['user_embedding[0][0]',         \n",
      "                                                                  'poi_embedding[0][0]']          \n",
      "                                                                                                  \n",
      " reshape_1 (Reshape)            (None, 1)            0           ['dot_product[0][0]']            \n",
      "                                                                                                  \n",
      "==================================================================================================\n",
      "Total params: 11,453,500\n",
      "Trainable params: 11,453,500\n",
      "Non-trainable params: 0\n",
      "__________________________________________________________________________________________________\n"
     ]
    }
   ],
   "source": [
    "def user_embedding_model(embedding_size = 50, classification = False):\n",
    "    \"\"\"Model to embed users and pois using the functional API.\n",
    "       Trained to discern if a link is present in the user poi pairs (which is orders)\"\"\"\n",
    "    \n",
    "    # Both inputs are 1-dimensional\n",
    "    user = Input(name = 'user', shape = [1])\n",
    "    poi = Input(name = 'poi', shape = [1])\n",
    "    \n",
    "    # Embedding the user (shape will be (None, 1, 50))\n",
    "    user_embedding = Embedding(name = 'user_embedding',\n",
    "                               input_dim = len(users['user_id']),\n",
    "                               output_dim = embedding_size)(user)\n",
    "    \n",
    "    # Embedding the poi (shape will be (None, 1, 50))\n",
    "    poi_embedding = Embedding(name = 'poi_embedding',\n",
    "                               input_dim = len(pois['wm_poi_id']),\n",
    "                               output_dim = embedding_size)(poi)\n",
    "    \n",
    "    # Merge the layers with a dot product along the second axis (shape will be (None, 1, 1))\n",
    "    merged = Dot(name = 'dot_product', normalize = True, axes = 2)([user_embedding, poi_embedding])\n",
    "    \n",
    "    # Reshape to be a single number (shape will be (None, 1))\n",
    "    merged = Reshape(target_shape = [1])(merged)\n",
    "    \n",
    "    # If classifcation, add extra layer and loss function is binary cross entropy\n",
    "    if classification:\n",
    "        merged = Dense(1, activation = 'sigmoid')(merged)\n",
    "        model = Model(inputs = [user, poi], outputs = merged)\n",
    "        model.compile(optimizer = 'Adam', loss = 'binary_crossentropy', metrics = ['accuracy'])\n",
    "    \n",
    "    # Otherwise loss function is mean squared error\n",
    "    else:\n",
    "        model = Model(inputs = [user, poi], outputs = merged)\n",
    "        model.compile(optimizer = 'Adam', loss = 'mse')\n",
    "    \n",
    "    return model\n",
    "\n",
    "# Instantiate model and show parameters\n",
    "model = user_embedding_model()\n",
    "model.summary()"
   ]
  },
  {
   "cell_type": "markdown",
   "id": "8d8ce1ee",
   "metadata": {},
   "source": [
    "**Train Embedding Model**"
   ]
  },
  {
   "cell_type": "code",
   "execution_count": 147,
   "id": "75dc01b4",
   "metadata": {},
   "outputs": [
    {
     "name": "stdout",
     "output_type": "stream",
     "text": [
      "Epoch 1/15\n",
      "1043/1043 - 122s - loss: 0.2391 - 122s/epoch - 117ms/step\n",
      "Epoch 2/15\n",
      "1043/1043 - 123s - loss: 0.0834 - 123s/epoch - 118ms/step\n",
      "Epoch 3/15\n",
      "1043/1043 - 123s - loss: 0.0407 - 123s/epoch - 118ms/step\n",
      "Epoch 4/15\n",
      "1043/1043 - 123s - loss: 0.0309 - 123s/epoch - 118ms/step\n",
      "Epoch 5/15\n",
      "1043/1043 - 122s - loss: 0.0274 - 122s/epoch - 117ms/step\n",
      "Epoch 6/15\n",
      "1043/1043 - 124s - loss: 0.0254 - 124s/epoch - 119ms/step\n",
      "Epoch 7/15\n",
      "1043/1043 - 123s - loss: 0.0241 - 123s/epoch - 117ms/step\n",
      "Epoch 8/15\n",
      "1043/1043 - 123s - loss: 0.0231 - 123s/epoch - 118ms/step\n",
      "Epoch 9/15\n",
      "1043/1043 - 124s - loss: 0.0224 - 124s/epoch - 119ms/step\n",
      "Epoch 10/15\n",
      "1043/1043 - 124s - loss: 0.0218 - 124s/epoch - 119ms/step\n",
      "Epoch 11/15\n",
      "1043/1043 - 123s - loss: 0.0213 - 123s/epoch - 118ms/step\n",
      "Epoch 12/15\n",
      "1043/1043 - 124s - loss: 0.0209 - 124s/epoch - 118ms/step\n",
      "Epoch 13/15\n",
      "1043/1043 - 123s - loss: 0.0205 - 123s/epoch - 118ms/step\n",
      "Epoch 14/15\n",
      "1043/1043 - 124s - loss: 0.0202 - 124s/epoch - 119ms/step\n",
      "Epoch 15/15\n",
      "1043/1043 - 125s - loss: 0.0199 - 125s/epoch - 120ms/step\n"
     ]
    }
   ],
   "source": [
    "n_positive = 1024\n",
    "\n",
    "gen = generate_batch(pos_pairs, n_positive, negative_ratio = 2)\n",
    "\n",
    "# Train\n",
    "h = model.fit(x = gen, epochs = 15,steps_per_epoch = len(pos_pairs) // n_positive,verbose = 2)"
   ]
  },
  {
   "cell_type": "code",
   "execution_count": 148,
   "id": "85f442b3",
   "metadata": {},
   "outputs": [
    {
     "name": "stdout",
     "output_type": "stream",
     "text": [
      "Model: \"model_1\"\n",
      "__________________________________________________________________________________________________\n",
      " Layer (type)                   Output Shape         Param #     Connected to                     \n",
      "==================================================================================================\n",
      " user (InputLayer)              [(None, 1)]          0           []                               \n",
      "                                                                                                  \n",
      " poi (InputLayer)               [(None, 1)]          0           []                               \n",
      "                                                                                                  \n",
      " user_embedding (Embedding)     (None, 1, 50)        10000000    ['user[0][0]']                   \n",
      "                                                                                                  \n",
      " poi_embedding (Embedding)      (None, 1, 50)        1453500     ['poi[0][0]']                    \n",
      "                                                                                                  \n",
      " dot_product (Dot)              (None, 1, 1)         0           ['user_embedding[0][0]',         \n",
      "                                                                  'poi_embedding[0][0]']          \n",
      "                                                                                                  \n",
      " reshape_1 (Reshape)            (None, 1)            0           ['dot_product[0][0]']            \n",
      "                                                                                                  \n",
      "==================================================================================================\n",
      "Total params: 11,453,500\n",
      "Trainable params: 11,453,500\n",
      "Non-trainable params: 0\n",
      "__________________________________________________________________________________________________\n"
     ]
    }
   ],
   "source": [
    "model.summary()"
   ]
  },
  {
   "cell_type": "code",
   "execution_count": 152,
   "id": "acb64c6e",
   "metadata": {},
   "outputs": [],
   "source": [
    "model.save('C:/Users/Axe-Yue-CHEN/Desktop/Online-Food-Merchant-Recommendation-Based-on-the-Meituan-Waimai-Application/models/first_attempt.h5')"
   ]
  },
  {
   "cell_type": "markdown",
   "id": "093eb9ba",
   "metadata": {},
   "source": [
    "**Extract Embeddings and Analyze**"
   ]
  },
  {
   "cell_type": "code",
   "execution_count": 153,
   "id": "00805356",
   "metadata": {},
   "outputs": [
    {
     "data": {
      "text/plain": [
       "(200000, 50)"
      ]
     },
     "execution_count": 153,
     "metadata": {},
     "output_type": "execute_result"
    }
   ],
   "source": [
    "# Extract embeddings\n",
    "user_layer = model.get_layer('user_embedding')\n",
    "user_weights = user_layer.get_weights()[0]\n",
    "user_weights.shape"
   ]
  },
  {
   "cell_type": "markdown",
   "id": "901618dc",
   "metadata": {},
   "source": [
    "Each user is now represented as a 50-dimensional vector.\n",
    "\n",
    "We need to normalize the embeddings so that the dot product between two embeddings becomes the cosine similarity."
   ]
  },
  {
   "cell_type": "code",
   "execution_count": 154,
   "id": "7e220f97",
   "metadata": {},
   "outputs": [
    {
     "data": {
      "text/plain": [
       "1.0"
      ]
     },
     "execution_count": 154,
     "metadata": {},
     "output_type": "execute_result"
    }
   ],
   "source": [
    "user_weights = user_weights / np.linalg.norm(user_weights, axis = 1).reshape((-1, 1))\n",
    "user_weights[0][:10]\n",
    "np.sum(np.square(user_weights[0]))"
   ]
  },
  {
   "cell_type": "markdown",
   "id": "8f660c6f",
   "metadata": {},
   "source": [
    "Normalize just means divide each vector by the square root of the sum of squared components."
   ]
  },
  {
   "cell_type": "markdown",
   "id": "762b1638",
   "metadata": {},
   "source": [
    "**Finding Similar users**"
   ]
  },
  {
   "cell_type": "markdown",
   "id": "54f66659",
   "metadata": {},
   "source": [
    "Function to Find Most Similar Entities"
   ]
  },
  {
   "cell_type": "markdown",
   "id": "ee7a204e",
   "metadata": {},
   "source": [
    "The function below takes in either a user or a poi, a set of embeddings, and returns the n most similar items to the query. It does this by computing the dot product between the query and embeddings. Because we normalized the embeddings, the dot product represents the cosine similarity between two vectors. This is a measure of similarity that does not depend on the magnitude of the vector in contrast to the Euclidean distance.\n",
    "\n",
    "Once we have the dot products, we can sort the results to find the closest entities in the embedding space. With cosine similarity, higher numbers indicate entities that are closer together, with -1 the furthest apart and +1 closest together."
   ]
  },
  {
   "cell_type": "code",
   "execution_count": 184,
   "id": "1ea2462a",
   "metadata": {},
   "outputs": [],
   "source": [
    "import pandas as pd\n",
    "import matplotlib.pyplot as plt\n",
    "%matplotlib inline\n",
    "plt.style.use('fivethirtyeight')\n",
    "plt.rcParams['font.size'] = 15\n",
    "\n",
    "def find_similar(name, weights, index_name = 'user', n = 10, least = False, return_dist = False, plot = False):\n",
    "    \"\"\"Find n most similar items (or least) to name based on embeddings. Option to also plot the results\"\"\"\n",
    "    \n",
    "    # Select index and reverse index\n",
    "    if index_name == 'user':\n",
    "        index = user_index\n",
    "        rindex = index_user\n",
    "    elif index_name == 'poi':\n",
    "        index = poi_index\n",
    "        rindex = index_poi\n",
    "    \n",
    "    # Check to make sure `name` is in index\n",
    "    try:\n",
    "        # Calculate dot product between book and all others\n",
    "        dists = np.dot(weights, weights[index[name]])\n",
    "    except KeyError:\n",
    "        print(f'{name} Not Found.')\n",
    "        return\n",
    "    \n",
    "    # Sort distance indexes from smallest to largest\n",
    "    sorted_dists = np.argsort(dists)\n",
    "    \n",
    "    # Plot results if specified\n",
    "    if plot:\n",
    "        \n",
    "        # Find furthest and closest items\n",
    "        furthest = sorted_dists[:(n // 2)]\n",
    "        closest = sorted_dists[-n-1: len(dists) - 1]\n",
    "        items = [rindex[c] for c in furthest]\n",
    "        items.extend(rindex[c] for c in closest)\n",
    "        \n",
    "        # Find furthest and closets distances\n",
    "        distances = [dists[c] for c in furthest]\n",
    "        distances.extend(dists[c] for c in closest)\n",
    "        \n",
    "        colors = ['r' for _ in range(n //2)]\n",
    "        colors.extend('g' for _ in range(n))\n",
    "        \n",
    "        data = pd.DataFrame({'distance': distances}, index = items)\n",
    "        \n",
    "        # Horizontal bar chart\n",
    "        data['distance'].plot.barh(color = colors, figsize = (10, 8),\n",
    "                                   edgecolor = 'k', linewidth = 2)\n",
    "        plt.xlabel('Cosine Similarity');\n",
    "        plt.axvline(x = 0, color = 'k');\n",
    "        \n",
    "        # Formatting for italicized title\n",
    "        name_str = f'{index_name.capitalize()}s Most and Least Similar to'\n",
    "        for word in name.split():\n",
    "            # Title uses latex for italize\n",
    "            name_str += ' $\\it{' + word + '}$'\n",
    "        plt.title(name_str, x = 0.2, size = 28, y = 1.05)\n",
    "        \n",
    "        return None\n",
    "    \n",
    "    # If specified, find the least similar\n",
    "    if least:\n",
    "        # Take the first n from sorted distances\n",
    "        closest = sorted_dists[:n]\n",
    "         \n",
    "        print(f'{index_name.capitalize()}s furthest from {name}.\\n')\n",
    "        \n",
    "    # Otherwise find the most similar\n",
    "    else:\n",
    "        # Take the last n sorted distances\n",
    "        closest = sorted_dists[-n:]\n",
    "        \n",
    "        # Need distances later on\n",
    "        if return_dist:\n",
    "            return dists, closest\n",
    "        \n",
    "        \n",
    "        print(f'{index_name.capitalize()}s closest to {name}.\\n')\n",
    "        \n",
    "    # Need distances later on\n",
    "    if return_dist:\n",
    "        return dists, closest\n",
    "    \n",
    "    \n",
    "    # Print formatting\n",
    "    max_width = 6\n",
    "    \n",
    "    # Print the most similar and distances\n",
    "    for c in reversed(closest):\n",
    "        print(f'{index_name.capitalize()}: {rindex[c]:{max_width + 2}} Similarity: {dists[c]:.{2}}')\n",
    "        \n",
    "    "
   ]
  },
  {
   "cell_type": "code",
   "execution_count": 187,
   "id": "bc4e8c9e",
   "metadata": {},
   "outputs": [
    {
     "name": "stdout",
     "output_type": "stream",
     "text": [
      "Users closest to 1000.\n",
      "\n",
      "User:    1000 Similarity: 1.0\n",
      "User:   62353 Similarity: 0.88\n",
      "User:   64239 Similarity: 0.88\n",
      "User:  197778 Similarity: 0.87\n",
      "User:   20561 Similarity: 0.87\n"
     ]
    }
   ],
   "source": [
    "find_similar(1000, user_weights, index_name='user', n = 5, least = False)"
   ]
  },
  {
   "cell_type": "code",
   "execution_count": null,
   "id": "26ae6d36",
   "metadata": {},
   "outputs": [],
   "source": []
  },
  {
   "cell_type": "code",
   "execution_count": 188,
   "id": "6e4bcd6f",
   "metadata": {},
   "outputs": [
    {
     "data": {
      "text/plain": [
       "(29070, 50)"
      ]
     },
     "execution_count": 188,
     "metadata": {},
     "output_type": "execute_result"
    }
   ],
   "source": [
    "# Extract embeddings\n",
    "poi_layer = model.get_layer('poi_embedding')\n",
    "poi_weights = poi_layer.get_weights()[0]\n",
    "poi_weights.shape"
   ]
  },
  {
   "cell_type": "code",
   "execution_count": 191,
   "id": "78954b05",
   "metadata": {},
   "outputs": [
    {
     "name": "stdout",
     "output_type": "stream",
     "text": [
      "Pois closest to 10000.\n",
      "\n",
      "Poi:   10000 Similarity: 0.54\n",
      "Poi:   12529 Similarity: 0.38\n",
      "Poi:    3751 Similarity: 0.36\n",
      "Poi:   23259 Similarity: 0.35\n",
      "Poi:   19263 Similarity: 0.35\n",
      "Poi:    4852 Similarity: 0.34\n",
      "Poi:    8463 Similarity: 0.34\n",
      "Poi:   28104 Similarity: 0.34\n",
      "Poi:    7466 Similarity: 0.32\n",
      "Poi:   22384 Similarity: 0.32\n"
     ]
    }
   ],
   "source": [
    "find_similar(10000, poi_weights, index_name='poi')"
   ]
  },
  {
   "cell_type": "code",
   "execution_count": null,
   "id": "c01baa9b",
   "metadata": {},
   "outputs": [],
   "source": []
  },
  {
   "cell_type": "code",
   "execution_count": null,
   "id": "5cc11b71",
   "metadata": {},
   "outputs": [],
   "source": []
  },
  {
   "cell_type": "code",
   "execution_count": null,
   "id": "7d63daa3",
   "metadata": {},
   "outputs": [],
   "source": []
  },
  {
   "cell_type": "code",
   "execution_count": null,
   "id": "467fe724",
   "metadata": {},
   "outputs": [],
   "source": []
  },
  {
   "cell_type": "code",
   "execution_count": null,
   "id": "a248cb6e",
   "metadata": {},
   "outputs": [],
   "source": []
  },
  {
   "cell_type": "code",
   "execution_count": null,
   "id": "313ce1f4",
   "metadata": {},
   "outputs": [],
   "source": []
  },
  {
   "cell_type": "code",
   "execution_count": null,
   "id": "0ff46ad4",
   "metadata": {},
   "outputs": [],
   "source": []
  },
  {
   "cell_type": "code",
   "execution_count": null,
   "id": "b93c482b",
   "metadata": {},
   "outputs": [],
   "source": []
  },
  {
   "cell_type": "code",
   "execution_count": null,
   "id": "1ee30c6d",
   "metadata": {},
   "outputs": [],
   "source": []
  },
  {
   "cell_type": "code",
   "execution_count": null,
   "id": "e0f13357",
   "metadata": {},
   "outputs": [],
   "source": []
  }
 ],
 "metadata": {
  "kernelspec": {
   "display_name": "Python 3 (ipykernel)",
   "language": "python",
   "name": "python3"
  },
  "language_info": {
   "codemirror_mode": {
    "name": "ipython",
    "version": 3
   },
   "file_extension": ".py",
   "mimetype": "text/x-python",
   "name": "python",
   "nbconvert_exporter": "python",
   "pygments_lexer": "ipython3",
   "version": "3.8.3"
  }
 },
 "nbformat": 4,
 "nbformat_minor": 5
}
