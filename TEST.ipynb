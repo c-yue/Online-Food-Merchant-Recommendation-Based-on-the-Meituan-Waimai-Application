{
 "cells": [
  {
   "cell_type": "code",
   "execution_count": 1,
   "id": "9bedc22d",
   "metadata": {},
   "outputs": [],
   "source": [
    "import pandas as pd"
   ]
  },
  {
   "cell_type": "markdown",
   "id": "8814164b",
   "metadata": {},
   "source": [
    "## 0 Read Data"
   ]
  },
  {
   "cell_type": "code",
   "execution_count": 2,
   "id": "ccb7cc46",
   "metadata": {},
   "outputs": [],
   "source": [
    "# read user"
   ]
  },
  {
   "cell_type": "code",
   "execution_count": 3,
   "id": "5b736838",
   "metadata": {},
   "outputs": [],
   "source": [
    "path = 'E:/DSBA ESSEC - CentraleSupelec/Foundation of Machine Learning/美团商家推荐/原数据-20210301-20210328/users.txt'\n",
    "users = pd.read_csv(path, sep = \"\\t\")"
   ]
  },
  {
   "cell_type": "code",
   "execution_count": 4,
   "id": "a39cc3c6",
   "metadata": {},
   "outputs": [
    {
     "data": {
      "text/html": [
       "<div>\n",
       "<style scoped>\n",
       "    .dataframe tbody tr th:only-of-type {\n",
       "        vertical-align: middle;\n",
       "    }\n",
       "\n",
       "    .dataframe tbody tr th {\n",
       "        vertical-align: top;\n",
       "    }\n",
       "\n",
       "    .dataframe thead th {\n",
       "        text-align: right;\n",
       "    }\n",
       "</style>\n",
       "<table border=\"1\" class=\"dataframe\">\n",
       "  <thead>\n",
       "    <tr style=\"text-align: right;\">\n",
       "      <th></th>\n",
       "      <th>user_id</th>\n",
       "      <th>avg_pay_amt</th>\n",
       "      <th>avg_pay_amt_weekdays</th>\n",
       "      <th>avg_pay_amt_weekends</th>\n",
       "    </tr>\n",
       "  </thead>\n",
       "  <tbody>\n",
       "    <tr>\n",
       "      <th>0</th>\n",
       "      <td>0</td>\n",
       "      <td>[36,49)</td>\n",
       "      <td>[29,36)</td>\n",
       "      <td>[36,49)</td>\n",
       "    </tr>\n",
       "    <tr>\n",
       "      <th>1</th>\n",
       "      <td>1</td>\n",
       "      <td>[49,65)</td>\n",
       "      <td>[49,65)</td>\n",
       "      <td>&gt;=65</td>\n",
       "    </tr>\n",
       "    <tr>\n",
       "      <th>2</th>\n",
       "      <td>2</td>\n",
       "      <td>&lt;29</td>\n",
       "      <td>&lt;29</td>\n",
       "      <td>&lt;29</td>\n",
       "    </tr>\n",
       "    <tr>\n",
       "      <th>3</th>\n",
       "      <td>3</td>\n",
       "      <td>[49,65)</td>\n",
       "      <td>&gt;=65</td>\n",
       "      <td>[49,65)</td>\n",
       "    </tr>\n",
       "    <tr>\n",
       "      <th>4</th>\n",
       "      <td>4</td>\n",
       "      <td>[36,49)</td>\n",
       "      <td>未知</td>\n",
       "      <td>[49,65)</td>\n",
       "    </tr>\n",
       "  </tbody>\n",
       "</table>\n",
       "</div>"
      ],
      "text/plain": [
       "   user_id avg_pay_amt avg_pay_amt_weekdays avg_pay_amt_weekends\n",
       "0        0     [36,49)              [29,36)              [36,49)\n",
       "1        1     [49,65)              [49,65)                 >=65\n",
       "2        2         <29                  <29                  <29\n",
       "3        3     [49,65)                 >=65              [49,65)\n",
       "4        4     [36,49)                   未知              [49,65)"
      ]
     },
     "execution_count": 4,
     "metadata": {},
     "output_type": "execute_result"
    }
   ],
   "source": [
    "users.head()\n",
    "# users\n",
    "# users.info()\n",
    "# users['avg_pay_amt'].unique()"
   ]
  },
  {
   "cell_type": "code",
   "execution_count": 5,
   "id": "e1299677",
   "metadata": {},
   "outputs": [
    {
     "data": {
      "text/plain": [
       "0         [[36, 49)]\n",
       "1         [[49, 65)]\n",
       "2              [<29]\n",
       "3         [[49, 65)]\n",
       "4         [[36, 49)]\n",
       "             ...    \n",
       "199995    [[36, 49)]\n",
       "199996        [>=65]\n",
       "199997    [[36, 49)]\n",
       "199998         [<29]\n",
       "199999         [<29]\n",
       "Name: avg_pay_amt, Length: 200000, dtype: object"
      ]
     },
     "execution_count": 5,
     "metadata": {},
     "output_type": "execute_result"
    }
   ],
   "source": [
    "users['avg_pay_amt'].apply(lambda x: str(x).split(','))"
   ]
  },
  {
   "cell_type": "code",
   "execution_count": 6,
   "id": "efcc115c",
   "metadata": {},
   "outputs": [],
   "source": [
    "# read pois"
   ]
  },
  {
   "cell_type": "code",
   "execution_count": 7,
   "id": "1498cd9c",
   "metadata": {},
   "outputs": [],
   "source": [
    "path = 'E:/DSBA ESSEC - CentraleSupelec/Foundation of Machine Learning/美团商家推荐/原数据-20210301-20210328/pois.txt'\n",
    "pois = pd.read_csv(path, sep = \"\\t\")"
   ]
  },
  {
   "cell_type": "code",
   "execution_count": 8,
   "id": "4e569dce",
   "metadata": {},
   "outputs": [
    {
     "name": "stdout",
     "output_type": "stream",
     "text": [
      "<class 'pandas.core.frame.DataFrame'>\n",
      "RangeIndex: 29072 entries, 0 to 29071\n",
      "Data columns (total 10 columns):\n",
      " #   Column                      Non-Null Count  Dtype  \n",
      "---  ------                      --------------  -----  \n",
      " 0   wm_poi_id                   29071 non-null  float64\n",
      " 1   wm_poi_name                 27656 non-null  object \n",
      " 2   primary_second_tag_name     27656 non-null  object \n",
      " 3   primary_third_tag_name      27656 non-null  object \n",
      " 4   primary_first_tag_name      27656 non-null  object \n",
      " 5   poi_brand_id                22037 non-null  float64\n",
      " 6   aor_id                      4996 non-null   float64\n",
      " 7   poi_score                   27076 non-null  float64\n",
      " 8   delivery_comment_avg_score  27076 non-null  float64\n",
      " 9   food_comment_avg_score      27076 non-null  float64\n",
      "dtypes: float64(6), object(4)\n",
      "memory usage: 2.2+ MB\n"
     ]
    }
   ],
   "source": [
    "# pois.head()\n",
    "# orders_train\n",
    "pois.info()"
   ]
  },
  {
   "cell_type": "code",
   "execution_count": 9,
   "id": "97cfaff5",
   "metadata": {},
   "outputs": [],
   "source": [
    "# read orders"
   ]
  },
  {
   "cell_type": "code",
   "execution_count": 10,
   "id": "8eb28bc7",
   "metadata": {},
   "outputs": [],
   "source": [
    "path = 'E:/DSBA ESSEC - CentraleSupelec/Foundation of Machine Learning/美团商家推荐/原数据-20210301-20210328/orders_train.txt'\n",
    "orders_train = pd.read_csv(path, sep = \"\\t\")"
   ]
  },
  {
   "cell_type": "code",
   "execution_count": 11,
   "id": "0539e615",
   "metadata": {},
   "outputs": [
    {
     "data": {
      "text/html": [
       "<div>\n",
       "<style scoped>\n",
       "    .dataframe tbody tr th:only-of-type {\n",
       "        vertical-align: middle;\n",
       "    }\n",
       "\n",
       "    .dataframe tbody tr th {\n",
       "        vertical-align: top;\n",
       "    }\n",
       "\n",
       "    .dataframe thead th {\n",
       "        text-align: right;\n",
       "    }\n",
       "</style>\n",
       "<table border=\"1\" class=\"dataframe\">\n",
       "  <thead>\n",
       "    <tr style=\"text-align: right;\">\n",
       "      <th></th>\n",
       "      <th>user_id</th>\n",
       "      <th>wm_order_id</th>\n",
       "      <th>wm_poi_id</th>\n",
       "      <th>aor_id</th>\n",
       "      <th>order_price_interval</th>\n",
       "      <th>order_timestamp</th>\n",
       "      <th>ord_period_name</th>\n",
       "      <th>order_scene_name</th>\n",
       "      <th>aoi_id</th>\n",
       "      <th>takedlvr_aoi_type_name</th>\n",
       "      <th>dt</th>\n",
       "    </tr>\n",
       "  </thead>\n",
       "  <tbody>\n",
       "    <tr>\n",
       "      <th>0</th>\n",
       "      <td>120037</td>\n",
       "      <td>0</td>\n",
       "      <td>1806</td>\n",
       "      <td>0</td>\n",
       "      <td>&lt;29</td>\n",
       "      <td>1614557985</td>\n",
       "      <td>0</td>\n",
       "      <td>未知</td>\n",
       "      <td>0.0</td>\n",
       "      <td>0</td>\n",
       "      <td>20210301</td>\n",
       "    </tr>\n",
       "    <tr>\n",
       "      <th>1</th>\n",
       "      <td>135109</td>\n",
       "      <td>1</td>\n",
       "      <td>970</td>\n",
       "      <td>6</td>\n",
       "      <td>&gt;=65</td>\n",
       "      <td>1614561844</td>\n",
       "      <td>1</td>\n",
       "      <td>0</td>\n",
       "      <td>NaN</td>\n",
       "      <td>未知</td>\n",
       "      <td>20210301</td>\n",
       "    </tr>\n",
       "    <tr>\n",
       "      <th>2</th>\n",
       "      <td>146736</td>\n",
       "      <td>2</td>\n",
       "      <td>1945</td>\n",
       "      <td>6</td>\n",
       "      <td>[29,36)</td>\n",
       "      <td>1614588773</td>\n",
       "      <td>2</td>\n",
       "      <td>未知</td>\n",
       "      <td>1.0</td>\n",
       "      <td>0</td>\n",
       "      <td>20210301</td>\n",
       "    </tr>\n",
       "    <tr>\n",
       "      <th>3</th>\n",
       "      <td>83644</td>\n",
       "      <td>3</td>\n",
       "      <td>708</td>\n",
       "      <td>6</td>\n",
       "      <td>&gt;=65</td>\n",
       "      <td>1614599916</td>\n",
       "      <td>3</td>\n",
       "      <td>1</td>\n",
       "      <td>2.0</td>\n",
       "      <td>0</td>\n",
       "      <td>20210301</td>\n",
       "    </tr>\n",
       "    <tr>\n",
       "      <th>4</th>\n",
       "      <td>117903</td>\n",
       "      <td>4</td>\n",
       "      <td>2366</td>\n",
       "      <td>6</td>\n",
       "      <td>[29,36)</td>\n",
       "      <td>1614595418</td>\n",
       "      <td>3</td>\n",
       "      <td>1</td>\n",
       "      <td>3.0</td>\n",
       "      <td>1</td>\n",
       "      <td>20210301</td>\n",
       "    </tr>\n",
       "  </tbody>\n",
       "</table>\n",
       "</div>"
      ],
      "text/plain": [
       "   user_id  wm_order_id  wm_poi_id  aor_id order_price_interval  \\\n",
       "0   120037            0       1806       0                  <29   \n",
       "1   135109            1        970       6                 >=65   \n",
       "2   146736            2       1945       6              [29,36)   \n",
       "3    83644            3        708       6                 >=65   \n",
       "4   117903            4       2366       6              [29,36)   \n",
       "\n",
       "   order_timestamp  ord_period_name order_scene_name  aoi_id  \\\n",
       "0       1614557985                0               未知     0.0   \n",
       "1       1614561844                1                0     NaN   \n",
       "2       1614588773                2               未知     1.0   \n",
       "3       1614599916                3                1     2.0   \n",
       "4       1614595418                3                1     3.0   \n",
       "\n",
       "  takedlvr_aoi_type_name        dt  \n",
       "0                      0  20210301  \n",
       "1                     未知  20210301  \n",
       "2                      0  20210301  \n",
       "3                      0  20210301  \n",
       "4                      1  20210301  "
      ]
     },
     "execution_count": 11,
     "metadata": {},
     "output_type": "execute_result"
    }
   ],
   "source": [
    "orders_train.head()\n",
    "# orders_train"
   ]
  },
  {
   "cell_type": "code",
   "execution_count": null,
   "id": "e1513900",
   "metadata": {},
   "outputs": [],
   "source": []
  },
  {
   "cell_type": "markdown",
   "id": "aee21eff",
   "metadata": {},
   "source": [
    "## 1 Cleaning Data"
   ]
  },
  {
   "cell_type": "code",
   "execution_count": 12,
   "id": "a9ab6898",
   "metadata": {},
   "outputs": [],
   "source": [
    "# pois"
   ]
  },
  {
   "cell_type": "code",
   "execution_count": 13,
   "id": "497f427f",
   "metadata": {},
   "outputs": [],
   "source": [
    "pois = pois[0:29070]"
   ]
  },
  {
   "cell_type": "code",
   "execution_count": null,
   "id": "953ec9c7",
   "metadata": {},
   "outputs": [],
   "source": []
  },
  {
   "cell_type": "markdown",
   "id": "8eb9787a",
   "metadata": {},
   "source": [
    "## Map POIs to Integers (Done)"
   ]
  },
  {
   "cell_type": "code",
   "execution_count": null,
   "id": "eb7be327",
   "metadata": {},
   "outputs": [],
   "source": []
  },
  {
   "cell_type": "code",
   "execution_count": null,
   "id": "e541498a",
   "metadata": {},
   "outputs": [],
   "source": []
  },
  {
   "cell_type": "markdown",
   "id": "392151f6",
   "metadata": {},
   "source": [
    "## 2 Exploring"
   ]
  },
  {
   "cell_type": "markdown",
   "id": "2b2f2bb5",
   "metadata": {},
   "source": [
    "### Most Bought POI"
   ]
  },
  {
   "cell_type": "code",
   "execution_count": 14,
   "id": "5ec38020",
   "metadata": {},
   "outputs": [],
   "source": [
    "order_sort_by_poi = orders_train.groupby('wm_poi_id').count().sort_values('user_id',ascending = False)"
   ]
  },
  {
   "cell_type": "code",
   "execution_count": 15,
   "id": "e7cfc7a2",
   "metadata": {},
   "outputs": [
    {
     "data": {
      "text/html": [
       "<div>\n",
       "<style scoped>\n",
       "    .dataframe tbody tr th:only-of-type {\n",
       "        vertical-align: middle;\n",
       "    }\n",
       "\n",
       "    .dataframe tbody tr th {\n",
       "        vertical-align: top;\n",
       "    }\n",
       "\n",
       "    .dataframe thead th {\n",
       "        text-align: right;\n",
       "    }\n",
       "</style>\n",
       "<table border=\"1\" class=\"dataframe\">\n",
       "  <thead>\n",
       "    <tr style=\"text-align: right;\">\n",
       "      <th></th>\n",
       "      <th>user_id</th>\n",
       "      <th>wm_order_id</th>\n",
       "      <th>aor_id</th>\n",
       "      <th>order_price_interval</th>\n",
       "      <th>order_timestamp</th>\n",
       "      <th>ord_period_name</th>\n",
       "      <th>order_scene_name</th>\n",
       "      <th>aoi_id</th>\n",
       "      <th>takedlvr_aoi_type_name</th>\n",
       "      <th>dt</th>\n",
       "    </tr>\n",
       "    <tr>\n",
       "      <th>wm_poi_id</th>\n",
       "      <th></th>\n",
       "      <th></th>\n",
       "      <th></th>\n",
       "      <th></th>\n",
       "      <th></th>\n",
       "      <th></th>\n",
       "      <th></th>\n",
       "      <th></th>\n",
       "      <th></th>\n",
       "      <th></th>\n",
       "    </tr>\n",
       "  </thead>\n",
       "  <tbody>\n",
       "    <tr>\n",
       "      <th>1896</th>\n",
       "      <td>4535</td>\n",
       "      <td>4535</td>\n",
       "      <td>4535</td>\n",
       "      <td>4535</td>\n",
       "      <td>4535</td>\n",
       "      <td>4535</td>\n",
       "      <td>4535</td>\n",
       "      <td>4330</td>\n",
       "      <td>4535</td>\n",
       "      <td>4535</td>\n",
       "    </tr>\n",
       "    <tr>\n",
       "      <th>244</th>\n",
       "      <td>4139</td>\n",
       "      <td>4139</td>\n",
       "      <td>4139</td>\n",
       "      <td>4139</td>\n",
       "      <td>4139</td>\n",
       "      <td>4139</td>\n",
       "      <td>4139</td>\n",
       "      <td>3531</td>\n",
       "      <td>4139</td>\n",
       "      <td>4139</td>\n",
       "    </tr>\n",
       "    <tr>\n",
       "      <th>3230</th>\n",
       "      <td>4102</td>\n",
       "      <td>4102</td>\n",
       "      <td>4102</td>\n",
       "      <td>4102</td>\n",
       "      <td>4102</td>\n",
       "      <td>4102</td>\n",
       "      <td>4102</td>\n",
       "      <td>3766</td>\n",
       "      <td>4102</td>\n",
       "      <td>4102</td>\n",
       "    </tr>\n",
       "    <tr>\n",
       "      <th>3193</th>\n",
       "      <td>3943</td>\n",
       "      <td>3943</td>\n",
       "      <td>3943</td>\n",
       "      <td>3943</td>\n",
       "      <td>3943</td>\n",
       "      <td>3943</td>\n",
       "      <td>3943</td>\n",
       "      <td>3647</td>\n",
       "      <td>3943</td>\n",
       "      <td>3943</td>\n",
       "    </tr>\n",
       "    <tr>\n",
       "      <th>2933</th>\n",
       "      <td>3868</td>\n",
       "      <td>3868</td>\n",
       "      <td>3868</td>\n",
       "      <td>3868</td>\n",
       "      <td>3868</td>\n",
       "      <td>3868</td>\n",
       "      <td>3868</td>\n",
       "      <td>3737</td>\n",
       "      <td>3868</td>\n",
       "      <td>3868</td>\n",
       "    </tr>\n",
       "    <tr>\n",
       "      <th>...</th>\n",
       "      <td>...</td>\n",
       "      <td>...</td>\n",
       "      <td>...</td>\n",
       "      <td>...</td>\n",
       "      <td>...</td>\n",
       "      <td>...</td>\n",
       "      <td>...</td>\n",
       "      <td>...</td>\n",
       "      <td>...</td>\n",
       "      <td>...</td>\n",
       "    </tr>\n",
       "    <tr>\n",
       "      <th>1153</th>\n",
       "      <td>1</td>\n",
       "      <td>1</td>\n",
       "      <td>1</td>\n",
       "      <td>1</td>\n",
       "      <td>1</td>\n",
       "      <td>1</td>\n",
       "      <td>1</td>\n",
       "      <td>1</td>\n",
       "      <td>1</td>\n",
       "      <td>1</td>\n",
       "    </tr>\n",
       "    <tr>\n",
       "      <th>1154</th>\n",
       "      <td>1</td>\n",
       "      <td>1</td>\n",
       "      <td>1</td>\n",
       "      <td>1</td>\n",
       "      <td>1</td>\n",
       "      <td>1</td>\n",
       "      <td>1</td>\n",
       "      <td>1</td>\n",
       "      <td>1</td>\n",
       "      <td>1</td>\n",
       "    </tr>\n",
       "    <tr>\n",
       "      <th>1995</th>\n",
       "      <td>1</td>\n",
       "      <td>1</td>\n",
       "      <td>1</td>\n",
       "      <td>1</td>\n",
       "      <td>1</td>\n",
       "      <td>1</td>\n",
       "      <td>1</td>\n",
       "      <td>1</td>\n",
       "      <td>1</td>\n",
       "      <td>1</td>\n",
       "    </tr>\n",
       "    <tr>\n",
       "      <th>1981</th>\n",
       "      <td>1</td>\n",
       "      <td>1</td>\n",
       "      <td>1</td>\n",
       "      <td>1</td>\n",
       "      <td>1</td>\n",
       "      <td>1</td>\n",
       "      <td>1</td>\n",
       "      <td>1</td>\n",
       "      <td>1</td>\n",
       "      <td>1</td>\n",
       "    </tr>\n",
       "    <tr>\n",
       "      <th>1658</th>\n",
       "      <td>1</td>\n",
       "      <td>1</td>\n",
       "      <td>1</td>\n",
       "      <td>1</td>\n",
       "      <td>1</td>\n",
       "      <td>1</td>\n",
       "      <td>1</td>\n",
       "      <td>1</td>\n",
       "      <td>1</td>\n",
       "      <td>1</td>\n",
       "    </tr>\n",
       "  </tbody>\n",
       "</table>\n",
       "<p>3252 rows × 10 columns</p>\n",
       "</div>"
      ],
      "text/plain": [
       "           user_id  wm_order_id  aor_id  order_price_interval  \\\n",
       "wm_poi_id                                                       \n",
       "1896          4535         4535    4535                  4535   \n",
       "244           4139         4139    4139                  4139   \n",
       "3230          4102         4102    4102                  4102   \n",
       "3193          3943         3943    3943                  3943   \n",
       "2933          3868         3868    3868                  3868   \n",
       "...            ...          ...     ...                   ...   \n",
       "1153             1            1       1                     1   \n",
       "1154             1            1       1                     1   \n",
       "1995             1            1       1                     1   \n",
       "1981             1            1       1                     1   \n",
       "1658             1            1       1                     1   \n",
       "\n",
       "           order_timestamp  ord_period_name  order_scene_name  aoi_id  \\\n",
       "wm_poi_id                                                               \n",
       "1896                  4535             4535              4535    4330   \n",
       "244                   4139             4139              4139    3531   \n",
       "3230                  4102             4102              4102    3766   \n",
       "3193                  3943             3943              3943    3647   \n",
       "2933                  3868             3868              3868    3737   \n",
       "...                    ...              ...               ...     ...   \n",
       "1153                     1                1                 1       1   \n",
       "1154                     1                1                 1       1   \n",
       "1995                     1                1                 1       1   \n",
       "1981                     1                1                 1       1   \n",
       "1658                     1                1                 1       1   \n",
       "\n",
       "           takedlvr_aoi_type_name    dt  \n",
       "wm_poi_id                                \n",
       "1896                         4535  4535  \n",
       "244                          4139  4139  \n",
       "3230                         4102  4102  \n",
       "3193                         3943  3943  \n",
       "2933                         3868  3868  \n",
       "...                           ...   ...  \n",
       "1153                            1     1  \n",
       "1154                            1     1  \n",
       "1995                            1     1  \n",
       "1981                            1     1  \n",
       "1658                            1     1  \n",
       "\n",
       "[3252 rows x 10 columns]"
      ]
     },
     "execution_count": 15,
     "metadata": {},
     "output_type": "execute_result"
    }
   ],
   "source": [
    "order_sort_by_poi"
   ]
  },
  {
   "cell_type": "code",
   "execution_count": null,
   "id": "0b5c9e51",
   "metadata": {},
   "outputs": [],
   "source": []
  },
  {
   "cell_type": "code",
   "execution_count": null,
   "id": "9c475784",
   "metadata": {},
   "outputs": [],
   "source": []
  },
  {
   "cell_type": "code",
   "execution_count": null,
   "id": "8c5d888f",
   "metadata": {},
   "outputs": [],
   "source": []
  },
  {
   "cell_type": "code",
   "execution_count": null,
   "id": "e308ad0e",
   "metadata": {},
   "outputs": [],
   "source": []
  },
  {
   "cell_type": "code",
   "execution_count": null,
   "id": "dc85c954",
   "metadata": {},
   "outputs": [],
   "source": []
  },
  {
   "cell_type": "code",
   "execution_count": null,
   "id": "85bdd812",
   "metadata": {},
   "outputs": [],
   "source": []
  },
  {
   "cell_type": "code",
   "execution_count": null,
   "id": "05e02f87",
   "metadata": {},
   "outputs": [],
   "source": []
  },
  {
   "cell_type": "markdown",
   "id": "e4f1a320",
   "metadata": {},
   "source": [
    "## Try Collaborative Filtering for POI"
   ]
  },
  {
   "cell_type": "code",
   "execution_count": 33,
   "id": "491d1232",
   "metadata": {},
   "outputs": [],
   "source": [
    "# user without info\n",
    "users_n_info = users['user_id'].to_frame()\n",
    "users_n_info = users_n_info [:1000]"
   ]
  },
  {
   "cell_type": "code",
   "execution_count": 34,
   "id": "6d85d59e",
   "metadata": {},
   "outputs": [],
   "source": [
    "# users_n_info"
   ]
  },
  {
   "cell_type": "code",
   "execution_count": null,
   "id": "d051c8d5",
   "metadata": {},
   "outputs": [],
   "source": []
  },
  {
   "cell_type": "code",
   "execution_count": 35,
   "id": "bc993e8d",
   "metadata": {},
   "outputs": [],
   "source": [
    "# order record\n",
    "user_poi_buy = orders_train[['user_id','wm_poi_id']]\n",
    "user_poi_buy = user_poi_buy [:3000]"
   ]
  },
  {
   "cell_type": "code",
   "execution_count": 36,
   "id": "d087b298",
   "metadata": {},
   "outputs": [],
   "source": [
    "user_poi_buy['if_buy'] = 1"
   ]
  },
  {
   "cell_type": "code",
   "execution_count": 37,
   "id": "16ac567b",
   "metadata": {},
   "outputs": [],
   "source": [
    "# user_poi_buy"
   ]
  },
  {
   "cell_type": "code",
   "execution_count": null,
   "id": "9e298d0f",
   "metadata": {},
   "outputs": [],
   "source": []
  },
  {
   "cell_type": "code",
   "execution_count": 38,
   "id": "fc274d4f",
   "metadata": {},
   "outputs": [],
   "source": [
    "# user poi relationship 0 "
   ]
  },
  {
   "cell_type": "code",
   "execution_count": 39,
   "id": "302a40b7",
   "metadata": {},
   "outputs": [
    {
     "name": "stderr",
     "output_type": "stream",
     "text": [
      "C:\\Users\\AXE-YU~1\\AppData\\Local\\Temp/ipykernel_16100/3713264701.py:1: FutureWarning: In a future version of pandas all arguments of DataFrame.drop except for the argument 'labels' will be keyword-only\n",
      "  user_poi_0 = pd.merge(users_n_info.assign(key=1), user_poi_buy['wm_poi_id'].to_frame().assign(key=1),on='key').drop('key',1)\n"
     ]
    }
   ],
   "source": [
    "user_poi_0 = pd.merge(users_n_info.assign(key=1), user_poi_buy['wm_poi_id'].to_frame().assign(key=1),on='key').drop('key',1)"
   ]
  },
  {
   "cell_type": "code",
   "execution_count": 40,
   "id": "e6fb6bd5",
   "metadata": {},
   "outputs": [],
   "source": [
    "user_poi_0['if_buy'] = 0"
   ]
  },
  {
   "cell_type": "code",
   "execution_count": 41,
   "id": "469ababa",
   "metadata": {},
   "outputs": [],
   "source": [
    "# user_poi_0"
   ]
  },
  {
   "cell_type": "code",
   "execution_count": null,
   "id": "d5ba502d",
   "metadata": {},
   "outputs": [],
   "source": []
  },
  {
   "cell_type": "code",
   "execution_count": 42,
   "id": "72529ad6",
   "metadata": {},
   "outputs": [],
   "source": [
    "user_poi_if_buy = pd.merge(user_poi_0, user_poi_buy, on = ['user_id','wm_poi_id'], how = 'left')"
   ]
  },
  {
   "cell_type": "code",
   "execution_count": 43,
   "id": "3d775e46",
   "metadata": {},
   "outputs": [],
   "source": [
    "user_poi_if_buy['if_buy'] = user_poi_if_buy['if_buy_x'] + user_poi_if_buy['if_buy_y']\n",
    "user_poi_if_buy = user_poi_if_buy[['user_id','wm_poi_id','if_buy']]\n",
    "user_poi_if_buy = user_poi_if_buy.fillna(0)"
   ]
  },
  {
   "cell_type": "code",
   "execution_count": 44,
   "id": "3f704160",
   "metadata": {},
   "outputs": [
    {
     "data": {
      "text/html": [
       "<div>\n",
       "<style scoped>\n",
       "    .dataframe tbody tr th:only-of-type {\n",
       "        vertical-align: middle;\n",
       "    }\n",
       "\n",
       "    .dataframe tbody tr th {\n",
       "        vertical-align: top;\n",
       "    }\n",
       "\n",
       "    .dataframe thead th {\n",
       "        text-align: right;\n",
       "    }\n",
       "</style>\n",
       "<table border=\"1\" class=\"dataframe\">\n",
       "  <thead>\n",
       "    <tr style=\"text-align: right;\">\n",
       "      <th></th>\n",
       "      <th>user_id</th>\n",
       "      <th>wm_poi_id</th>\n",
       "      <th>if_buy</th>\n",
       "    </tr>\n",
       "  </thead>\n",
       "  <tbody>\n",
       "    <tr>\n",
       "      <th>0</th>\n",
       "      <td>0</td>\n",
       "      <td>1806</td>\n",
       "      <td>0.0</td>\n",
       "    </tr>\n",
       "    <tr>\n",
       "      <th>1</th>\n",
       "      <td>0</td>\n",
       "      <td>970</td>\n",
       "      <td>0.0</td>\n",
       "    </tr>\n",
       "    <tr>\n",
       "      <th>2</th>\n",
       "      <td>0</td>\n",
       "      <td>1945</td>\n",
       "      <td>0.0</td>\n",
       "    </tr>\n",
       "    <tr>\n",
       "      <th>3</th>\n",
       "      <td>0</td>\n",
       "      <td>708</td>\n",
       "      <td>0.0</td>\n",
       "    </tr>\n",
       "    <tr>\n",
       "      <th>4</th>\n",
       "      <td>0</td>\n",
       "      <td>2366</td>\n",
       "      <td>0.0</td>\n",
       "    </tr>\n",
       "    <tr>\n",
       "      <th>...</th>\n",
       "      <td>...</td>\n",
       "      <td>...</td>\n",
       "      <td>...</td>\n",
       "    </tr>\n",
       "    <tr>\n",
       "      <th>2999998</th>\n",
       "      <td>999</td>\n",
       "      <td>812</td>\n",
       "      <td>0.0</td>\n",
       "    </tr>\n",
       "    <tr>\n",
       "      <th>2999999</th>\n",
       "      <td>999</td>\n",
       "      <td>2120</td>\n",
       "      <td>0.0</td>\n",
       "    </tr>\n",
       "    <tr>\n",
       "      <th>3000000</th>\n",
       "      <td>999</td>\n",
       "      <td>1781</td>\n",
       "      <td>0.0</td>\n",
       "    </tr>\n",
       "    <tr>\n",
       "      <th>3000001</th>\n",
       "      <td>999</td>\n",
       "      <td>2624</td>\n",
       "      <td>0.0</td>\n",
       "    </tr>\n",
       "    <tr>\n",
       "      <th>3000002</th>\n",
       "      <td>999</td>\n",
       "      <td>1733</td>\n",
       "      <td>0.0</td>\n",
       "    </tr>\n",
       "  </tbody>\n",
       "</table>\n",
       "<p>3000003 rows × 3 columns</p>\n",
       "</div>"
      ],
      "text/plain": [
       "         user_id  wm_poi_id  if_buy\n",
       "0              0       1806     0.0\n",
       "1              0        970     0.0\n",
       "2              0       1945     0.0\n",
       "3              0        708     0.0\n",
       "4              0       2366     0.0\n",
       "...          ...        ...     ...\n",
       "2999998      999        812     0.0\n",
       "2999999      999       2120     0.0\n",
       "3000000      999       1781     0.0\n",
       "3000001      999       2624     0.0\n",
       "3000002      999       1733     0.0\n",
       "\n",
       "[3000003 rows x 3 columns]"
      ]
     },
     "execution_count": 44,
     "metadata": {},
     "output_type": "execute_result"
    }
   ],
   "source": [
    "user_poi_if_buy"
   ]
  },
  {
   "cell_type": "code",
   "execution_count": 45,
   "id": "159e43ad",
   "metadata": {},
   "outputs": [
    {
     "data": {
      "text/plain": [
       "array([0., 1.])"
      ]
     },
     "execution_count": 45,
     "metadata": {},
     "output_type": "execute_result"
    }
   ],
   "source": [
    "user_poi_if_buy['if_buy'].unique()"
   ]
  },
  {
   "cell_type": "code",
   "execution_count": null,
   "id": "596c282b",
   "metadata": {},
   "outputs": [],
   "source": []
  },
  {
   "cell_type": "code",
   "execution_count": null,
   "id": "effee1fd",
   "metadata": {},
   "outputs": [],
   "source": []
  },
  {
   "cell_type": "code",
   "execution_count": null,
   "id": "bb39d508",
   "metadata": {},
   "outputs": [],
   "source": [
    "# 先安装推荐系统库 surprise，在anaconda中运行：\n",
    "# conda install -c conda-forge scikit-surprise"
   ]
  },
  {
   "cell_type": "code",
   "execution_count": 46,
   "id": "354a7543",
   "metadata": {},
   "outputs": [],
   "source": [
    "from surprise import Reader, Dataset, SVD\n",
    "from surprise.model_selection import cross_validate"
   ]
  },
  {
   "cell_type": "code",
   "execution_count": 47,
   "id": "8607627d",
   "metadata": {},
   "outputs": [],
   "source": [
    "reader = Reader()"
   ]
  },
  {
   "cell_type": "code",
   "execution_count": 48,
   "id": "c4d4102e",
   "metadata": {},
   "outputs": [],
   "source": [
    "data = Dataset.load_from_df(user_poi_if_buy, reader)\n",
    "# data.split(n_folds=5)"
   ]
  },
  {
   "cell_type": "code",
   "execution_count": 50,
   "id": "0fe01f63",
   "metadata": {},
   "outputs": [],
   "source": [
    "svd = SVD()\n",
    "cross_validate(svd, data, measures=['RMSE', 'MAE'])"
   ]
  },
  {
   "cell_type": "code",
   "execution_count": null,
   "id": "34da7d15",
   "metadata": {},
   "outputs": [],
   "source": [
    "trainset = data.build_full_trainset()\n",
    "svd.fit(trainset)"
   ]
  },
  {
   "cell_type": "code",
   "execution_count": null,
   "id": "f3184656",
   "metadata": {},
   "outputs": [],
   "source": [
    "ratings[ratings['userId'] == 1]"
   ]
  },
  {
   "cell_type": "code",
   "execution_count": null,
   "id": "880074c5",
   "metadata": {},
   "outputs": [],
   "source": [
    "svd.predict(1, 302, 3)"
   ]
  },
  {
   "cell_type": "code",
   "execution_count": null,
   "id": "99d49e3a",
   "metadata": {},
   "outputs": [],
   "source": []
  },
  {
   "cell_type": "code",
   "execution_count": null,
   "id": "7fae2ad8",
   "metadata": {},
   "outputs": [],
   "source": []
  },
  {
   "cell_type": "markdown",
   "id": "a568966b",
   "metadata": {},
   "source": [
    "## Embedding"
   ]
  },
  {
   "cell_type": "code",
   "execution_count": 51,
   "id": "1ff67af6",
   "metadata": {},
   "outputs": [
    {
     "data": {
      "text/html": [
       "<div>\n",
       "<style scoped>\n",
       "    .dataframe tbody tr th:only-of-type {\n",
       "        vertical-align: middle;\n",
       "    }\n",
       "\n",
       "    .dataframe tbody tr th {\n",
       "        vertical-align: top;\n",
       "    }\n",
       "\n",
       "    .dataframe thead th {\n",
       "        text-align: right;\n",
       "    }\n",
       "</style>\n",
       "<table border=\"1\" class=\"dataframe\">\n",
       "  <thead>\n",
       "    <tr style=\"text-align: right;\">\n",
       "      <th></th>\n",
       "      <th>user_id</th>\n",
       "      <th>wm_poi_id</th>\n",
       "      <th>if_buy</th>\n",
       "    </tr>\n",
       "  </thead>\n",
       "  <tbody>\n",
       "    <tr>\n",
       "      <th>0</th>\n",
       "      <td>0</td>\n",
       "      <td>1806</td>\n",
       "      <td>0.0</td>\n",
       "    </tr>\n",
       "    <tr>\n",
       "      <th>1</th>\n",
       "      <td>0</td>\n",
       "      <td>970</td>\n",
       "      <td>0.0</td>\n",
       "    </tr>\n",
       "    <tr>\n",
       "      <th>2</th>\n",
       "      <td>0</td>\n",
       "      <td>1945</td>\n",
       "      <td>0.0</td>\n",
       "    </tr>\n",
       "    <tr>\n",
       "      <th>3</th>\n",
       "      <td>0</td>\n",
       "      <td>708</td>\n",
       "      <td>0.0</td>\n",
       "    </tr>\n",
       "    <tr>\n",
       "      <th>4</th>\n",
       "      <td>0</td>\n",
       "      <td>2366</td>\n",
       "      <td>0.0</td>\n",
       "    </tr>\n",
       "    <tr>\n",
       "      <th>...</th>\n",
       "      <td>...</td>\n",
       "      <td>...</td>\n",
       "      <td>...</td>\n",
       "    </tr>\n",
       "    <tr>\n",
       "      <th>2999998</th>\n",
       "      <td>999</td>\n",
       "      <td>812</td>\n",
       "      <td>0.0</td>\n",
       "    </tr>\n",
       "    <tr>\n",
       "      <th>2999999</th>\n",
       "      <td>999</td>\n",
       "      <td>2120</td>\n",
       "      <td>0.0</td>\n",
       "    </tr>\n",
       "    <tr>\n",
       "      <th>3000000</th>\n",
       "      <td>999</td>\n",
       "      <td>1781</td>\n",
       "      <td>0.0</td>\n",
       "    </tr>\n",
       "    <tr>\n",
       "      <th>3000001</th>\n",
       "      <td>999</td>\n",
       "      <td>2624</td>\n",
       "      <td>0.0</td>\n",
       "    </tr>\n",
       "    <tr>\n",
       "      <th>3000002</th>\n",
       "      <td>999</td>\n",
       "      <td>1733</td>\n",
       "      <td>0.0</td>\n",
       "    </tr>\n",
       "  </tbody>\n",
       "</table>\n",
       "<p>3000003 rows × 3 columns</p>\n",
       "</div>"
      ],
      "text/plain": [
       "         user_id  wm_poi_id  if_buy\n",
       "0              0       1806     0.0\n",
       "1              0        970     0.0\n",
       "2              0       1945     0.0\n",
       "3              0        708     0.0\n",
       "4              0       2366     0.0\n",
       "...          ...        ...     ...\n",
       "2999998      999        812     0.0\n",
       "2999999      999       2120     0.0\n",
       "3000000      999       1781     0.0\n",
       "3000001      999       2624     0.0\n",
       "3000002      999       1733     0.0\n",
       "\n",
       "[3000003 rows x 3 columns]"
      ]
     },
     "execution_count": 51,
     "metadata": {},
     "output_type": "execute_result"
    }
   ],
   "source": [
    "user_poi_if_buy"
   ]
  },
  {
   "cell_type": "code",
   "execution_count": null,
   "id": "3db870f3",
   "metadata": {},
   "outputs": [],
   "source": []
  },
  {
   "cell_type": "code",
   "execution_count": null,
   "id": "d31a8500",
   "metadata": {},
   "outputs": [],
   "source": []
  },
  {
   "cell_type": "code",
   "execution_count": null,
   "id": "243fe44e",
   "metadata": {},
   "outputs": [],
   "source": []
  },
  {
   "cell_type": "code",
   "execution_count": null,
   "id": "496b06e3",
   "metadata": {},
   "outputs": [],
   "source": []
  },
  {
   "cell_type": "code",
   "execution_count": null,
   "id": "56254b44",
   "metadata": {},
   "outputs": [],
   "source": []
  },
  {
   "cell_type": "code",
   "execution_count": null,
   "id": "88126cf4",
   "metadata": {},
   "outputs": [],
   "source": []
  },
  {
   "cell_type": "code",
   "execution_count": null,
   "id": "db39722e",
   "metadata": {},
   "outputs": [],
   "source": []
  },
  {
   "cell_type": "code",
   "execution_count": null,
   "id": "cfe9b81d",
   "metadata": {},
   "outputs": [],
   "source": []
  }
 ],
 "metadata": {
  "kernelspec": {
   "display_name": "Python 3 (ipykernel)",
   "language": "python",
   "name": "python3"
  },
  "language_info": {
   "codemirror_mode": {
    "name": "ipython",
    "version": 3
   },
   "file_extension": ".py",
   "mimetype": "text/x-python",
   "name": "python",
   "nbconvert_exporter": "python",
   "pygments_lexer": "ipython3",
   "version": "3.8.3"
  }
 },
 "nbformat": 4,
 "nbformat_minor": 5
}
